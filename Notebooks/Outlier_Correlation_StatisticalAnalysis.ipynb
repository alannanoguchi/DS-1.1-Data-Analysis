{
 "cells": [
  {
   "cell_type": "markdown",
   "metadata": {},
   "source": [
    "## Learning Objectives:\n",
    "\n",
    "By the end of this lesson, students will be able to:\n",
    "\n",
    "- Describe an outlier and how to remove outliers for univariate data\n",
    "- Visualize the outliers through box-plots\n",
    "- Describe how to use a Gaussian Mixture Model to fit a data distribution\n",
    "- Understand correlation and visualize the correlation amongst features"
   ]
  },
  {
   "cell_type": "markdown",
   "metadata": {},
   "source": [
    "## Outlier Detection\n",
    "\n",
    "- **Outliers** are extreme values that can skew our dataset, sometimes giving us an incorrect picture of how things actually are in our dataset. \n",
    "\n",
    "- The hardest part of this is determining which data points are acceptable, and which ones constitute as \"outliers\"."
   ]
  },
  {
   "cell_type": "markdown",
   "metadata": {},
   "source": [
    "## Activity: find and remove outliers if our dataset is Normal\n",
    "\n",
    "When our sample data is close to normal distribution, the samples that are _three standard deviations away from the mean_ can be considered outliers.\n",
    "\n",
    "**Task**: Write a function that first finds outliers for a normally distributed data, then remove them.\n",
    "\n",
    "**Hint**: Data samples that are below `mean - 3*std` and above `mean + 3*std` are outliers for Normal distribution "
   ]
  },
  {
   "cell_type": "code",
   "execution_count": null,
   "metadata": {},
   "outputs": [],
   "source": [
    "import numpy as np\n",
    "\n",
    "def find_remove_outlier(data_sample):\n",
    "    # calculate summary statistics\n",
    "    data_mean, data_std = np.mean(data), np.std(data)\n",
    "    # define cut-off\n",
    "    cut_off = data_std * 3\n",
    "    lower, upper = data_mean - cut_off, data_mean + cut_off\n",
    "    # identify outliers\n",
    "    outliers = [x for x in data_sample if x < lower or x > upper]\n",
    "    # remove outliers\n",
    "    outliers_removed = [x for x in data_sample if x > lower and x < upper]\n",
    "    return outliers, outliers_removed"
   ]
  },
  {
   "cell_type": "markdown",
   "metadata": {},
   "source": [
    "## Interquartile range (IQR)\n",
    "\n",
    "We use IQR for finding and removing outliers when the data has any kind of distribution\n",
    "\n",
    "[John Tukey](https://en.wikipedia.org/wiki/John_Tukey) suggested to _calculate the range between the first quartile (25%) and third quartile (75%) in the data_, which is  the IQR."
   ]
  },
  {
   "cell_type": "markdown",
   "metadata": {},
   "source": [
    "## Activity:  IQR outlier detection and removal\n",
    "\n",
    "**Task**: write a function to find and remove outliers based on IQR method for this data sample:\n",
    "\n",
    "**Hint**: \n",
    "\n",
    "$Q_1$ is the first quartile (25%) \n",
    "\n",
    "$Q_3$ is the third quartile (75%) \n",
    "\n",
    "<img src=\"Images/iqr.png\"> \n",
    "\n",
    "`x = [norm.rvs(loc=5 , scale=1 , size=100), -5, 11, 14]`"
   ]
  },
  {
   "cell_type": "code",
   "execution_count": 10,
   "metadata": {},
   "outputs": [
    {
     "name": "stdout",
     "output_type": "stream",
     "text": [
      "<class 'numpy.ndarray'>\n",
      "1.6503050764633622\n",
      "[-5.0, 11.0, 14.0]\n",
      "1.6503050764633622\n"
     ]
    }
   ],
   "source": [
    "import numpy as np\n",
    "import scipy.stats\n",
    "\n",
    "def find_remove_outlier_iqr(data_sample):\n",
    "    # calculate interquartile range\n",
    "    q25, q75 = np.percentile(data_sample, 25), np.percentile(data_sample, 75)\n",
    "    iqr = q75 - q25\n",
    "    print(iqr)\n",
    "    # calculate the outlier cutoff\n",
    "    cut_off = iqr * 1.5\n",
    "    lower, upper = q25 - cut_off, q75 + cut_off\n",
    "    # identify outliers\n",
    "    outliers = [x for x in data_sample if x < lower or x > upper]\n",
    "    # remove outliers\n",
    "    outliers_removed = [x for x in data_sample if x > lower and x < upper]\n",
    "    return outliers\n",
    "\n",
    "y = np.array([-5, 11, 14])\n",
    "x =  np.concatenate((scipy.stats.norm.rvs(loc=5 , scale=1 , size=100), y))\n",
    "print(type(x))\n",
    "print(find_remove_outlier_iqr(x))\n",
    "print(scipy.stats.iqr(x))"
   ]
  },
  {
   "cell_type": "markdown",
   "metadata": {},
   "source": [
    "## How we can visualy see the outlier?\n",
    "\n",
    "**Answer**: Box plot use the IQR method to display data and outliers"
   ]
  },
  {
   "cell_type": "code",
   "execution_count": 1,
   "metadata": {},
   "outputs": [
    {
     "ename": "NameError",
     "evalue": "name 'x' is not defined",
     "output_type": "error",
     "traceback": [
      "\u001b[0;31m---------------------------------------------------------------------------\u001b[0m",
      "\u001b[0;31mNameError\u001b[0m                                 Traceback (most recent call last)",
      "\u001b[0;32m<ipython-input-1-2c7f3ccdb2c3>\u001b[0m in \u001b[0;36m<module>\u001b[0;34m\u001b[0m\n\u001b[1;32m      1\u001b[0m \u001b[0;32mimport\u001b[0m \u001b[0mmatplotlib\u001b[0m\u001b[0;34m.\u001b[0m\u001b[0mpyplot\u001b[0m \u001b[0;32mas\u001b[0m \u001b[0mplt\u001b[0m\u001b[0;34m\u001b[0m\u001b[0;34m\u001b[0m\u001b[0m\n\u001b[1;32m      2\u001b[0m \u001b[0;34m\u001b[0m\u001b[0m\n\u001b[0;32m----> 3\u001b[0;31m \u001b[0mplt\u001b[0m\u001b[0;34m.\u001b[0m\u001b[0mboxplot\u001b[0m\u001b[0;34m(\u001b[0m\u001b[0mx\u001b[0m\u001b[0;34m)\u001b[0m\u001b[0;34m\u001b[0m\u001b[0;34m\u001b[0m\u001b[0m\n\u001b[0m\u001b[1;32m      4\u001b[0m \u001b[0;34m\u001b[0m\u001b[0m\n\u001b[1;32m      5\u001b[0m \u001b[0mplt\u001b[0m\u001b[0;34m.\u001b[0m\u001b[0mshow\u001b[0m\u001b[0;34m(\u001b[0m\u001b[0;34m)\u001b[0m\u001b[0;34m\u001b[0m\u001b[0;34m\u001b[0m\u001b[0m\n",
      "\u001b[0;31mNameError\u001b[0m: name 'x' is not defined"
     ]
    }
   ],
   "source": [
    "import matplotlib.pyplot as plt\n",
    "\n",
    "plt.boxplot(x)\n",
    "\n",
    "plt.show()"
   ]
  },
  {
   "cell_type": "markdown",
   "metadata": {},
   "source": [
    "## Correlation \n",
    "\n",
    "**Correlation** is used to _test relationships between quantitative variables_\n",
    "\n",
    "Some examples of data that have a high correlation:\n",
    "\n",
    "1. Your caloric intake and your weight\n",
    "1. The amount of time your study and your GPA\n",
    "\n",
    "**Question**: what is negative correlation?\n",
    "\n",
    "Correlations are useful because we can find out what relationship variables have, we can make predictions about future behavior. "
   ]
  },
  {
   "cell_type": "markdown",
   "metadata": {},
   "source": [
    "## Activity: Obtain the correlation among all features of iris dataset\n",
    "\n",
    "1. Review the iris dataset. What are the features? \n",
    "1. Eliminate two columns `['Id', 'Species']`\n",
    "1. Compute the correlation among all features.\n",
    "    1. **Hint**: Use `df.corr()`\n",
    "1. Plot the correlation by heatmap and corr plot in Seaborn -> `sns.heatmap`, `sns.corrplot`\n",
    "1. Write a function that computes the correlation (Pearson formula)\n",
    "    1. **Hint**: https://en.wikipedia.org/wiki/Pearson_correlation_coefficient\n",
    "1. Compare your answer with `scipy.stats.pearsonr` for any given two features\n",
    "\n",
    "<img src=\"./Images/iris_vis.jpg\">"
   ]
  },
  {
   "cell_type": "code",
   "execution_count": 13,
   "metadata": {},
   "outputs": [
    {
     "name": "stdout",
     "output_type": "stream",
     "text": [
      "0.8717541573048714\n",
      "(0.8717541573048712, 1.0384540627941809e-47)\n"
     ]
    },
    {
     "data": {
      "image/png": "[encoded data removed]",
      "text/plain": [
       "<Figure size 432x288 with 2 Axes>"
      ]
     },
     "metadata": {},
     "output_type": "display_data"
    }
   ],
   "source": [
    "import pandas as pd\n",
    "import numpy as np\n",
    "import scipy.stats\n",
    "import seaborn as sns\n",
    "import scipy.stats\n",
    "\n",
    "df = pd.read_csv('Iris.csv')\n",
    "df = df.drop(columns=['Id', 'Species'])\n",
    "sns.heatmap(df.corr(), annot=True)\n",
    "\n",
    "def pearson_corr(x, y):\n",
    "    x_mean = np.mean(x)\n",
    "    y_mean = np.mean(y)\n",
    "    num = [(i - x_mean)*(j - y_mean) for i,j in zip(x,y)]\n",
    "    den_1 = [(i - x_mean)**2 for i in x]\n",
    "    den_2 = [(j - y_mean)**2 for j in y]\n",
    "    correlation_x_y = np.sum(num)/np.sqrt(np.sum(den_1))/np.sqrt(np.sum(den_2))\n",
    "    return correlation_x_y\n",
    "\n",
    "print(pearson_corr(df['SepalLengthCm'], df['PetalLengthCm']))\n",
    "print(scipy.stats.pearsonr(df['SepalLengthCm'], df['PetalLengthCm']))"
   ]
  },
  {
   "cell_type": "markdown",
   "metadata": {},
   "source": [
    "## Statistical Analysis\n",
    "\n",
    "We can approxite the histogram of a dataset with a combination of Gaussian (Normal) distribution functions:\n",
    "\n",
    "    Gaussian Mixture Model (GMM)\n",
    "    \n",
    "    Kernel Density Estimation (KDE)"
   ]
  },
  {
   "cell_type": "markdown",
   "metadata": {},
   "source": [
    "## What is the goal for using GMM?\n",
    "\n",
    "- We want to appriximate the density (histogram) of any given data sample with a combination of Normal Distribitions\n",
    "\n",
    "- How many Normal Distributions we need is defined by us (2 or 3 or 4,...)"
   ]
  },
  {
   "cell_type": "markdown",
   "metadata": {},
   "source": [
    "## Activity : Fit a GMM to a given data sample \n",
    "\n",
    "Task: \n",
    "\n",
    "1. Generate the concatination of the random variables as follows:\n",
    "\n",
    "`x_1 = np.random.normal(-5, 1, 3000)`\n",
    "\n",
    "`x_2 = np.random.normal(2, 3, 7000) `\n",
    "\n",
    "`x = np.concatenate((x_1, x_2))`\n",
    "\n",
    "2. Plot the histogram of `x`\n",
    "3. Obtain the weights, mean and variances of each Gassuian\n",
    "\n",
    "You will need to use the following in your solution: \n",
    "```python\n",
    "from sklearn import mixture\n",
    "\n",
    "gmm = mixture.GaussianMixture(n_components=2)\n",
    "\n",
    "gmm.fit(x.reshape(-1,1))\n",
    "```"
   ]
  },
  {
   "cell_type": "code",
   "execution_count": 16,
   "metadata": {},
   "outputs": [
    {
     "data": {
      "image/png": "[encoded data removed]",
      "text/plain": [
       "<Figure size 432x288 with 1 Axes>"
      ]
     },
     "metadata": {},
     "output_type": "display_data"
    },
    {
     "name": "stdout",
     "output_type": "stream",
     "text": [
      "[[ 2.09650276]\n",
      " [-4.97020333]]\n",
      "[[[8.57778373]]\n",
      "\n",
      " [[1.07352143]]]\n",
      "[0.68948643 0.31051357]\n"
     ]
    }
   ],
   "source": [
    "import numpy as np\n",
    "import matplotlib.pyplot as plt\n",
    "from sklearn import mixture\n",
    "\n",
    "# Generate data samples and plot its histogram\n",
    "x_1 = np.random.normal(-5, 1, 3000)\n",
    "x_2 = np.random.normal(2, 3, 7000) \n",
    "x = np.concatenate((x_1, x_2))\n",
    "plt.hist(x, bins=20, density=1)\n",
    "plt.show()\n",
    "\n",
    "# Define a GMM model and obtain its parameters\n",
    "gmm = mixture.GaussianMixture(n_components=2)\n",
    "gmm.fit(x.reshape(-1,1))\n",
    "print(gmm.means_)\n",
    "print(gmm.covariances_)\n",
    "print(gmm.weights_)"
   ]
  },
  {
   "cell_type": "markdown",
   "metadata": {},
   "source": [
    "## The GMM has learned the probability density function of our data sample\n",
    "\n",
    "Let's generate the samples from the GMM:\n",
    "\n"
   ]
  },
  {
   "cell_type": "code",
   "execution_count": 17,
   "metadata": {},
   "outputs": [
    {
     "data": {
      "image/png": "[encoded data removed]",
      "text/plain": [
       "<Figure size 432x288 with 1 Axes>"
      ]
     },
     "metadata": {},
     "output_type": "display_data"
    }
   ],
   "source": [
    "z = gmm.sample(10000)\n",
    "plt.hist(z[0], bins=20, density=1)\n",
    "plt.show()"
   ]
  },
  {
   "cell_type": "markdown",
   "metadata": {},
   "source": [
    "## Question: Are the samples in z and x the same?\n",
    "\n",
    "- Not their samples, but we know that the _pdf of x and the pdf of z are the same_"
   ]
  },
  {
   "cell_type": "markdown",
   "metadata": {},
   "source": [
    "## Kernel Density Estimation (KDE)\n",
    "\n",
    "**Kernel density estimation (KDE)** is a non-parametric way to estimate the Probability Density Function (PDF) of a data sample. In other words _the goal of KDE is to find PDF for a given data sample._\n",
    "\n",
    "We can use the below formula to approximate the PDF of the dataset:\n",
    "\n",
    "$p(x) = \\frac{1}{Nh}\\sum_{i = 1}^{N} \\ K(\\frac{x - x_i}{h})$\n",
    "\n",
    "where $h$ is a bandwidth and $N$ is the number of data points"
   ]
  },
  {
   "cell_type": "markdown",
   "metadata": {},
   "source": [
    "## Activity: Apply KDE on a given data sample\n",
    "\n",
    "**Task**: Apply KDE on the previously generated sample data `x`\n",
    "\n",
    "**Hint**: use \n",
    "\n",
    "`kde = KernelDensity(kernel='gaussian', bandwidth=0.6)`"
   ]
  },
  {
   "cell_type": "code",
   "execution_count": 19,
   "metadata": {},
   "outputs": [
    {
     "data": {
      "text/plain": [
       "[<matplotlib.lines.Line2D at 0x1a1cee9668>]"
      ]
     },
     "execution_count": 19,
     "metadata": {},
     "output_type": "execute_result"
    },
    {
     "data": {
      "image/png": "[encoded data removed]",
      "text/plain": [
       "<Figure size 432x288 with 1 Axes>"
      ]
     },
     "metadata": {},
     "output_type": "display_data"
    }
   ],
   "source": [
    "from sklearn.neighbors import KernelDensity\n",
    "\n",
    "kde = KernelDensity(kernel='gaussian', bandwidth=0.6)\n",
    "kde.fit(x.reshape(-1,1))\n",
    "\n",
    "s = np.linspace(np.min(x), np.max(x))\n",
    "log_pdf = kde.score_samples(s.reshape(-1,1))\n",
    "plt.plot(s, np.exp(log_pdf))"
   ]
  },
  {
   "cell_type": "markdown",
   "metadata": {},
   "source": [
    "## The KDE has learned the probability density function of our data sample\n",
    "\n",
    "Let's generate the samples from the KDE:"
   ]
  },
  {
   "cell_type": "code",
   "execution_count": null,
   "metadata": {},
   "outputs": [],
   "source": [
    "m = kde.sample(10000)\n",
    "plt.hist(m, bins=20, density=1)\n",
    "plt.show()"
   ]
  },
  {
   "cell_type": "markdown",
   "metadata": {},
   "source": [
    "## KDE can learn handwitten digits distribution and generate new digits\n",
    "\n",
    "http://scikit-learn.org/stable/auto_examples/neighbors/plot_digits_kde_sampling.html"
   ]
  }
 ],
 "metadata": {
  "kernelspec": {
   "display_name": "Python 3",
   "language": "python",
   "name": "python3"
  },
  "language_info": {
   "codemirror_mode": {
    "name": "ipython",
    "version": 3
   },
   "file_extension": ".py",
   "mimetype": "text/x-python",
   "name": "python",
   "nbconvert_exporter": "python",
   "pygments_lexer": "ipython3",
   "version": "3.7.4"
  }
 },
 "nbformat": 4,
 "nbformat_minor": 2
}
