{
 "cells": [
  {
   "cell_type": "markdown",
   "metadata": {},
   "source": [
    "## Learning Objectives\n",
    "\n",
    "By the end of this lesson, you will be able to:\n",
    "\n",
    "1- Describe null hypothesis and when and how to apply it\n",
    "\n",
    "2- Define the metrics we need in order to statistically accept or reject null\n",
    "\n",
    "3- Understand how and when to use Z test or T test\n",
    "\n",
    "4- Distinguish whether or not two groups are different"
   ]
  },
  {
   "cell_type": "markdown",
   "metadata": {},
   "source": [
    "## What is null hypothesis?\n",
    "\n",
    "It is the formal method of reaching conclusions based on population statistics and sample data where we apply changes to a population"
   ]
  },
  {
   "cell_type": "markdown",
   "metadata": {
    "slideshow": {
     "slide_type": "slide"
    }
   },
   "source": [
    "## Null hypothesis examples\n",
    "\n",
    "\n",
    "1- Rain dance, cultures people dance together to have rain during periods of drought \n",
    "\n",
    "<img src=\"Images/raindance.jpg\" height=\"200px\">\n",
    "\n",
    "2- We want to test if a drug has an impact on the brain \n",
    "\n",
    "3- Does a food boost your IQ?\n",
    "\n",
    "4- A/B testing\n"
   ]
  },
  {
   "cell_type": "markdown",
   "metadata": {
    "slideshow": {
     "slide_type": "slide"
    }
   },
   "source": [
    "## Activity: Review of Z distribution, CDF and SF\n",
    "\n",
    "Generate 10000 samples as a random variable with Normal distribution with a pre-defined mean and standard deviation.\n",
    "\n",
    "**Hint:** `import numpy as np`\n",
    "\n",
    "        `mean  = 60`\n",
    "        \n",
    "        `sigma = 10`\n",
    "\n",
    "       X = np.random.normal(mean, sigma, 10000)\n",
    "\n",
    "Write a function to show that $Z = \\frac{X - mean}{sigma}$, is standard Normal\n",
    "\n",
    "**Hint:** If you subtract each element of the above generated number from the mean, and divide over std (sigma), then the new array would be a Normal distribution with zero mean, std 1 \n",
    "\n",
    "**Hint:** Plot the histogram of Z, show that Z is standard normal"
   ]
  },
  {
   "cell_type": "markdown",
   "metadata": {
    "slideshow": {
     "slide_type": "slide"
    }
   },
   "source": [
    "## Null hypothesis drug example on rat\n",
    "\n",
    "[Slides for example](https://docs.google.com/presentation/d/1BQibGlrpX71JU0jBU0C7zJJr6S_4WQeFzO7PBmnxf8g/edit?usp=sharing)\n",
    "\n",
    "A neurologist is testing the effect of a drug on response time by injecting 100 rats with a unit dose of a drug, subjecting each to neurologist stimulus and recording its response time. The neurologist knows that the mean response time for rats not injected with the drug is 1.2 seconds. The mean of the 100 injected rats's response time is 1.05 seconds with population standard deviation of 0.5 seconds. Do you think the drug has effect on response time?"
   ]
  },
  {
   "cell_type": "markdown",
   "metadata": {
    "slideshow": {
     "slide_type": "subslide"
    }
   },
   "source": [
    "$H_o :$ Drug has no effect ==> $\\mu_x = 1.2$ even with drug \n",
    "\n",
    "$H_a :$ Drug has effect ==> $\\mu_x \\neq 1.2$ when the drug is given"
   ]
  },
  {
   "cell_type": "markdown",
   "metadata": {
    "slideshow": {
     "slide_type": "slide"
    }
   },
   "source": [
    "## The steps to reject or accept the null hypothesis\n",
    "\n",
    "1- The population mean is known, $\\mu$\n",
    "\n",
    "2- The sample mean is known, $\\bar{x}$\n",
    "\n",
    "3- Define a significant level, $\\alpha$\n",
    "\n",
    "4- If $N$ > 30 or $\\sigma$ is known, then calculate z_score, $z_{score} = \\frac{\\bar{x} - \\mu}{\\sigma/\\sqrt{N}}$\n",
    "\n",
    "5- Calculate p-value, $p_{value} = 2SF(z_{score})$\n",
    "\n",
    "6- Decision: if $p_{value} < \\alpha$ then reject the null hypothesis "
   ]
  },
  {
   "cell_type": "markdown",
   "metadata": {
    "slideshow": {
     "slide_type": "slide"
    }
   },
   "source": [
    "## Activity: z-test\n",
    "\n",
    "Write a function that takes the mean, significant level, and samples of the population as the input arguments.\n",
    "\n",
    "This function should then decide to reject ot accept the null hypothesis for the drug effect on rats\n",
    "\n",
    "Recall: $\\mu = 1.2$, $\\bar{x} = 1.05$, $N = 100$ and $\\sigma = 0.5$"
   ]
  },
  {
   "cell_type": "code",
   "execution_count": 1,
   "metadata": {
    "slideshow": {
     "slide_type": "subslide"
    }
   },
   "outputs": [],
   "source": [
    "def accept_or_reject_null_hypothesis(mu, sample_mean, significant_level, N, sigma):\n",
    "    # Calculate standard deviation of the sampling distribution\n",
    "    sample_std = sigma / np.sqrt(N)\n",
    "    \n",
    "    # Calculate z-score from population mean (mu), sample mean and sample std\n",
    "    z = (sample_mean - mu) / sample_std\n",
    "    \n",
    "    # Calculate p-value from z-score\n",
    "    p_value = 2 * norm.cdf(-np.abs(z))\n",
    "    \n",
    "    # Determine whether to accept or reject null hypothesis\n",
    "    if p_value < significant_level:\n",
    "        print('reject null hypothesis')\n",
    "    else:\n",
    "        print('accept null hypothesis')"
   ]
  },
  {
   "cell_type": "markdown",
   "metadata": {
    "slideshow": {
     "slide_type": "slide"
    }
   },
   "source": [
    "## Activity: t-test\n",
    "\n",
    "The average British man is 175.3 cm tall. A survey recorded the heights of 10 British men who drank a special type of Milk for 2 years.\n",
    "\n",
    "Calculate the t-score from the previous formula and use the available function in [`stats.ttest_1samp`](https://docs.scipy.org/doc/scipy/reference/generated/scipy.stats.ttest_1samp.html). Compare what you will get with `x` as your input:\n",
    "\n",
    "`x = [177.3, 182.7, 169.6, 176.3, 180.3, 179.4, 178.5, 177.2, 181.8, 176.5]`\n",
    "\n",
    "We want to know whether the mean of the sample is different from the population mean"
   ]
  },
  {
   "cell_type": "code",
   "execution_count": 13,
   "metadata": {
    "scrolled": true,
    "slideshow": {
     "slide_type": "subslide"
    }
   },
   "outputs": [
    {
     "name": "stdout",
     "output_type": "stream",
     "text": [
      "t-statistic:  2.295568968083183\n",
      "t =  2.295568968083183 , p =  0.04734137339747034\n"
     ]
    }
   ],
   "source": [
    "from scipy import stats\n",
    "import numpy as np\n",
    "\n",
    "x = [177.3, 182.7, 169.6, 176.3, 180.3, 179.4, 178.5, 177.2, 181.8, 176.5]\n",
    "mu = 175.3\n",
    "sample_mean = np.array(x).mean()\n",
    "\n",
    "# Calculate the standard deviation of sample distribution\n",
    "\n",
    "N = len(x) # number of data samples\n",
    "S = np.array(x).std(ddof=1)\n",
    "den = S /np.sqrt(N)\n",
    "\n",
    "# t-test from formula\n",
    "t = (sample_mean - mu)/den\n",
    "print(\"t-statistic: \",t)\n",
    "\n",
    "# one sample t-test that gives you the p-value too can be done with scipy as follows:\n",
    "t, p = stats.ttest_1samp(x, mu)\n",
    "print(\"t = \", t, \", p = \", p)"
   ]
  },
  {
   "cell_type": "markdown",
   "metadata": {},
   "source": [
    "## So, we conclude that Milk has an effect on the heights"
   ]
  },
  {
   "cell_type": "markdown",
   "metadata": {
    "slideshow": {
     "slide_type": "slide"
    }
   },
   "source": [
    "## Activity: z-test or t-test\n",
    "\n",
    "Write a function that determines whether to use z-test or t-test in order to accept or reject null hypothesis\n",
    "\n",
    "**Hint:** Remember the the [slides](https://docs.google.com/presentation/d/1BQibGlrpX71JU0jBU0C7zJJr6S_4WQeFzO7PBmnxf8g/edit?usp=sharing) for the Rats..."
   ]
  },
  {
   "cell_type": "code",
   "execution_count": 4,
   "metadata": {
    "slideshow": {
     "slide_type": "subslide"
    }
   },
   "outputs": [],
   "source": [
    "def z_t_null_hypothesis(data_sample, mu, sigma, significant_level):\n",
    "    # If sigma is known, calculate using the z-test\n",
    "    if sigma:\n",
    "        z_score = (np.mean(data_sample)-mu)/(sigma/np.sqrt(len(data_sample)))\n",
    "        p = scipy.stats.norm.sf(abs(z_score))*2\n",
    "    # If the data_sample is greater than 30, calculate using the z-test\n",
    "    elif len(data_sample) > 30:\n",
    "        z_score = (np.mean(data_sample)-mu)/(np.std(data_sample)/np.sqrt(len(data_sample)))\n",
    "        p = scipy.stats.norm.sf(abs(z_score))*2\n",
    "    # otherwise, calculate using the t-test\n",
    "    else:\n",
    "        t, p = stats.ttest_1samp(data_sample, mu)\n",
    "\n",
    "    if p < significant_level:\n",
    "        print('reject null hypothesis')\n",
    "        \n",
    "    else:\n",
    "        print('accept null hypothesis')"
   ]
  },
  {
   "cell_type": "markdown",
   "metadata": {
    "slideshow": {
     "slide_type": "slide"
    }
   },
   "source": [
    "## What is a one-tail or two-tail calculation for a p-value?\n",
    "\n",
    "If the alternative hypothesis says the mean of a sample is different from the mean of the population, we should compute the p-value using two-tail. If it says the mean of a sample is greater or lower than the mean of a population, we should compute using one-tail"
   ]
  },
  {
   "cell_type": "markdown",
   "metadata": {
    "slideshow": {
     "slide_type": "slide"
    }
   },
   "source": [
    "## Possible errors that can happen when accepting or rejecting the null hypothesis\n",
    "\n",
    "**Type I error:** We reject the null hypothesis when the null is true\n",
    "\n",
    "$\\alpha$ = P(rejecting $H_o$  $|$  $H_o$ is true)\n",
    "\n",
    "**Type II error:** We accept the null hypothesis when it is not true\n",
    "\n",
    "$\\beta$ = P(accepting $H_o$ $|$ $H_o$ is false)\n",
    "\n",
    "The drug has an effect on the brain\n",
    "\n",
    "The drug has no effect on the brain"
   ]
  },
  {
   "cell_type": "markdown",
   "metadata": {
    "slideshow": {
     "slide_type": "slide"
    }
   },
   "source": [
    "## Other examples for statistical test \n",
    "\n",
    "Please read the Unpaired t-test part of this article\n",
    "\n",
    "http://iaingallagher.tumblr.com/post/50980987285/t-tests-in-python"
   ]
  },
  {
   "cell_type": "markdown",
   "metadata": {
    "slideshow": {
     "slide_type": "slide"
    }
   },
   "source": [
    "## Homework\n",
    "\n",
    "https://docs.google.com/document/d/1ITryiXU_VoyBvtZY4deehk4PmlieSlF7rSNc8sBU3Sw/edit"
   ]
  }
 ],
 "metadata": {
  "celltoolbar": "Slideshow",
  "kernelspec": {
   "display_name": "Python 3",
   "language": "python",
   "name": "python3"
  },
  "language_info": {
   "codemirror_mode": {
    "name": "ipython",
    "version": 3
   },
   "file_extension": ".py",
   "mimetype": "text/x-python",
   "name": "python",
   "nbconvert_exporter": "python",
   "pygments_lexer": "ipython3",
   "version": "3.7.4"
  }
 },
 "nbformat": 4,
 "nbformat_minor": 2
}
