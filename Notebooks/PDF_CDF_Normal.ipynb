{
 "cells": [
  {
   "cell_type": "markdown",
   "metadata": {},
   "source": [
    "# Learning Objectives\n",
    "\n",
    "At the end of this class, you will be able to...\n",
    "\n",
    "- Compute probability density functions and cumulative density functions\n",
    "\n",
    "- Use the `scipy.stats` package to compute the Survaival Value or CDF Value for a known distribution"
   ]
  },
  {
   "cell_type": "code",
   "execution_count": 5,
   "metadata": {},
   "outputs": [],
   "source": [
    "import numpy as np \n",
    "import pandas as pd \n",
    "\n",
    "df = pd.read_csv('./Datasets/titanic.csv')"
   ]
  },
  {
   "cell_type": "markdown",
   "metadata": {},
   "source": [
    "## Probability Distribution Function (PDF)\n",
    "\n",
    "- PDFs have a similar pattern to histogram. The only difference is that we _normalize the value of histograms_\n",
    "\n",
    "- Let's plot the histogram for Age in our Titanic dataset\n",
    "\n",
    "- To visualize this data, we'll use the [seaborn](https://seaborn.pydata.org/) library"
   ]
  },
  {
   "cell_type": "code",
   "execution_count": 8,
   "metadata": {},
   "outputs": [
    {
     "data": {
      "text/plain": [
       "<matplotlib.axes._subplots.AxesSubplot at 0x1a1a2b6b38>"
      ]
     },
     "execution_count": 8,
     "metadata": {},
     "output_type": "execute_result"
    },
    {
     "data": {
      "image/png": "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\n",
      "text/plain": [
       "<Figure size 432x288 with 1 Axes>"
      ]
     },
     "metadata": {},
     "output_type": "display_data"
    }
   ],
   "source": [
    "import seaborn as sns\n",
    "sns.distplot(df['Age'].dropna(), hist=True, kde=False, bins=16)"
   ]
  },
  {
   "cell_type": "markdown",
   "metadata": {},
   "source": [
    "- Now let's  plot the PDF of Age in Titanic"
   ]
  },
  {
   "cell_type": "code",
   "execution_count": 9,
   "metadata": {},
   "outputs": [
    {
     "data": {
      "text/plain": [
       "<matplotlib.axes._subplots.AxesSubplot at 0x1a19de5c88>"
      ]
     },
     "execution_count": 9,
     "metadata": {},
     "output_type": "execute_result"
    },
    {
     "data": {
      "image/png": "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\n",
      "text/plain": [
       "<Figure size 432x288 with 1 Axes>"
      ]
     },
     "metadata": {},
     "output_type": "display_data"
    }
   ],
   "source": [
    "import seaborn as sns\n",
    "sns.distplot(df['Age'].dropna(), hist=True, kde=True, bins=16)"
   ]
  },
  {
   "cell_type": "markdown",
   "metadata": {},
   "source": [
    "## Activity: In PDFs, where does the y axes numbers come from?\n",
    "\n",
    "For example, at Age 20, why is the y-value around 0.030?"
   ]
  },
  {
   "cell_type": "code",
   "execution_count": 12,
   "metadata": {},
   "outputs": [
    {
     "name": "stdout",
     "output_type": "stream",
     "text": [
      "80.0\n",
      "4.97375\n",
      "{(0.42, 5.39375): 44, (5.39375, 10.3675): 20, (10.3675, 15.34125): 19, (15.34125, 20.315): 96, (20.315, 25.28875): 122, (25.28875, 30.262500000000003): 108, (30.262500000000003, 35.23625): 88, (35.23625, 40.21): 67, (40.21, 45.18375): 47, (45.18375, 50.1575): 39, (50.1575, 55.13125): 24, (55.13125, 60.105000000000004): 18, (60.105000000000004, 65.07875): 14, (65.07875, 70.0525): 3, (70.0525, 75.02625): 4, (75.02625, 80.0): 1}\n"
     ]
    }
   ],
   "source": [
    "# custom histogram function\n",
    "# ls = input list\n",
    "# num_interval = number of intervals\n",
    "def custom_hist(ls, num_interval):\n",
    "    hist_ls_dict = dict()\n",
    "    # minimum value in ls\n",
    "    ...\n",
    "    # maximum value in ls\n",
    "    ...\n",
    "    # Interval\n",
    "    ...\n",
    "    for j in range(num_interval):\n",
    "        # Create how many elements in ls are at each interval j\n",
    "        hist_ls_dict[...]= ...  \n",
    "    return hist_ls_dict\n",
    "        \n",
    "print(custom_hist(df['Age'].dropna().values, 16))"
   ]
  },
  {
   "cell_type": "code",
   "execution_count": 14,
   "metadata": {},
   "outputs": [
    {
     "name": "stdout",
     "output_type": "stream",
     "text": [
      "80.0\n",
      "4.97375\n"
     ]
    },
    {
     "data": {
      "text/plain": [
       "714"
      ]
     },
     "execution_count": 14,
     "metadata": {},
     "output_type": "execute_result"
    }
   ],
   "source": [
    "hist_dict = custom_hist(df['Age'].dropna().values, 16)\n",
    "sum(hist_dict.values())"
   ]
  },
  {
   "cell_type": "code",
   "execution_count": 15,
   "metadata": {},
   "outputs": [
    {
     "data": {
      "text/plain": [
       "0.034354028115392926"
      ]
     },
     "execution_count": 15,
     "metadata": {},
     "output_type": "execute_result"
    }
   ],
   "source": [
    "122/714/4.97375"
   ]
  },
  {
   "cell_type": "markdown",
   "metadata": {},
   "source": [
    "## Activity: What percent of passengers are younger than 40?"
   ]
  },
  {
   "cell_type": "code",
   "execution_count": 10,
   "metadata": {},
   "outputs": [
    {
     "data": {
      "text/plain": [
       "0.7899159663865546"
      ]
     },
     "execution_count": 10,
     "metadata": {},
     "output_type": "execute_result"
    }
   ],
   "source": [
    "# Find the number of passengers younger than 40\n",
    "How_many_younger_40 = df[df['Age'] <= 40]\n",
    "# Find the percentage of passengers who are younger than 40\n",
    "# Do this by dividing the number of passengers younger than 40 by the total number of passengers (with an age)\n",
    "pr_below_40 = len(How_many_younger_40)/len(df['Age'].dropna())\n",
    "pr_below_40"
   ]
  },
  {
   "cell_type": "markdown",
   "metadata": {},
   "source": [
    "## It is not easy to calculate this percentage from PDFs as we should compute the area"
   ]
  },
  {
   "cell_type": "markdown",
   "metadata": {},
   "source": [
    "## Cumulative Density Function (CDF)\n",
    "\n",
    "- In above example, we could not easily obtain the percentage from a PDF, although it is possible.\n",
    "\n",
    "- This is much easier if we use a CDF. A CDF calculates the probability that a random variable is less than a threshold value\n",
    "\n",
    "- Let's learn CDF by example: given an array of numbers (our random variable) and a threshold value as input:\n",
    "\n",
    "    1. Find the minimum value in the array\n",
    "    1. Set the threshold to be the minimum value of the array\n",
    "    1. For a given array of numbers and a given threshold, count all of the elements in the array that are less than the threshold, and divide that count by the length of the array\n",
    "    1. Repeat step three, increasing the threshold by one, until you go through step three where threshold is equail to the maximum value in the array\n",
    "\n"
   ]
  },
  {
   "cell_type": "code",
   "execution_count": 10,
   "metadata": {},
   "outputs": [
    {
     "name": "stdout",
     "output_type": "stream",
     "text": [
      "[0.0, 0.0196078431372549, 0.03361344537815126, 0.04201680672268908, 0.056022408963585436, 0.06162464985994398, 0.06582633053221289, 0.0700280112044818, 0.07563025210084033, 0.08683473389355742, 0.0896358543417367, 0.09523809523809523, 0.09663865546218488, 0.09943977591036414, 0.10784313725490197, 0.11624649859943978, 0.1400560224089636, 0.15826330532212884, 0.19467787114845939, 0.22969187675070027, 0.2507002801120448, 0.2857142857142857, 0.3235294117647059, 0.3445378151260504, 0.38795518207282914, 0.4215686274509804, 0.44677871148459386, 0.47198879551820727, 0.5070028011204482, 0.5378151260504201, 0.572829131652661, 0.5994397759103641, 0.6246498599439776, 0.6484593837535014, 0.6694677871148459, 0.696078431372549, 0.726890756302521, 0.7366946778711485, 0.7521008403361344, 0.7717086834733894, 0.7899159663865546, 0.8011204481792717, 0.819327731092437, 0.8263305322128851, 0.8389355742296919, 0.8557422969187675, 0.8627450980392157, 0.8753501400560224, 0.8879551820728291, 0.896358543417367, 0.9103641456582633, 0.9201680672268907, 0.9285714285714286, 0.9299719887955182, 0.9411764705882353, 0.9439775910364145, 0.9509803921568627, 0.9537815126050421, 0.9607843137254902, 0.9635854341736695, 0.969187675070028, 0.9733893557422969, 0.9789915966386554, 0.9817927170868347, 0.9845938375350141, 0.988795518207283, 0.9901960784313726, 0.9901960784313726, 0.9901960784313726, 0.9901960784313726, 0.9929971988795518, 0.9971988795518207, 0.9971988795518207, 0.9971988795518207, 0.9985994397759104, 0.9985994397759104, 0.9985994397759104, 0.9985994397759104, 0.9985994397759104, 0.9985994397759104]\n"
     ]
    }
   ],
   "source": [
    "ls_age = df['Age'].dropna().values\n",
    "\n",
    "def calculate_cdf(x, threshold):\n",
    "    return np.sum(x <= threshold)\n",
    "\n",
    "# Create an array cdf_age where each value is the cdf of the age for each threshold\n",
    "cdf_age = [calculate_cdf(ls_age, r)/len(ls_age) for r in range(int(np.min(ls_age)), int(np.max(ls_age)))]\n",
    "\n",
    "print(cdf_age)"
   ]
  },
  {
   "cell_type": "code",
   "execution_count": 15,
   "metadata": {},
   "outputs": [
    {
     "data": {
      "text/plain": [
       "[<matplotlib.lines.Line2D at 0x1a193c9358>]"
      ]
     },
     "execution_count": 15,
     "metadata": {},
     "output_type": "execute_result"
    },
    {
     "data": {
      "image/png": "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\n",
      "text/plain": [
       "<Figure size 432x288 with 1 Axes>"
      ]
     },
     "metadata": {},
     "output_type": "display_data"
    }
   ],
   "source": [
    "import matplotlib.pyplot as plt\n",
    "\n",
    "plt.plot(range(int(np.min(ls_age)), int(np.max(ls_age))), cdf_age)"
   ]
  },
  {
   "cell_type": "markdown",
   "metadata": {},
   "source": [
    "## More about PDFs\n",
    "\n",
    "Below we show a Violin plot. Per [Wikipedia](https://en.wikipedia.org/wiki/Violin_plot), a violin plot is a method of plotting numeric data. It is similar to a box plot, with the addition of a rotated kernel density plot on each side.\n",
    "\n",
    "Violin plots are similar to box plots, except that they also show the **probability density (what a PDF shows!)** of the data at different values, usually smoothed by a kernel density estimator. "
   ]
  },
  {
   "cell_type": "code",
   "execution_count": 17,
   "metadata": {},
   "outputs": [
    {
     "data": {
      "text/plain": [
       "<matplotlib.axes._subplots.AxesSubplot at 0x1a192fc9e8>"
      ]
     },
     "execution_count": 17,
     "metadata": {},
     "output_type": "execute_result"
    },
    {
     "data": {
      "image/png": "iVBORw0KGgoAAAANSUhEUgAAAYIAAAEKCAYAAAAfGVI8AAAABHNCSVQICAgIfAhkiAAAAAlwSFlzAAALEgAACxIB0t1+/AAAADl0RVh0U29mdHdhcmUAbWF0cGxvdGxpYiB2ZXJzaW9uIDIuMi4yLCBodHRwOi8vbWF0cGxvdGxpYi5vcmcvhp/UCwAAIABJREFUeJzt3Xd4VGXe//H3PTOZSSYV0iihG5rSFAGxiwoqIK7ub3Vd27r67D42UEDAtj6rWBbFioqoYBd3lyIq4KIogpTQCTXSIZAQSJ0+c//+SEBQSoBMzsyc7+u6vJJMzpzzxUzmk3NXpbVGCCGEeVmMLkAIIYSxJAiEEMLkJAiEEMLkJAiEEMLkJAiEEMLkJAiEEMLkJAiEEMLkJAiEEMLkJAiEEMLkbEYXUBsZGRm6ZcuWRpchhBBRZenSpfu01pknOi4qgqBly5bk5eUZXYYQQkQVpdS22hwnTUNCCGFyEgRCCGFyEgRCCGFyEgRCCGFyEgRCCGFyEgRCCGFyEgRCCGFyEgQmo7VGticVQhxOgsBknnzySYY//LDRZQghIkhUzCwWdWfu3LlGlyCEiDByRyCEECYnQSCEECYnQSCEECYnQSCEECYnQSCEECYnQWBSMpdACHGQBIGJHP7m7/V6DaxECBFJJAhMxOfzHfrc4/EYWIkQIpJIEJjI4W/+brfbwEqEEJFEgsBEDn/zlzsCIcRBEgQm4nK5jvq5EMLcJAhMRIJACHE0YQ0CpdQQpVS+UmqNUuoTpVS8UqqVUmqRUmqTUuozpZQ9nDWIX1RVVR31cyGEuYUtCJRSTYH7ge5a67MAK3Aj8BwwVmudCxwA7gxXDeJIlZWVR/1cCGFu4W4asgEJSikb4AQKgcuAf9V8fxIwKMw1iBoSBEKIowlbEGitdwFjgO1UB0AZsBQo1VoHag7bCTQNVw3iSOXl5Yc+r6ioMLASIUQkCWfTUAPgWqAV0ARIBK46yqFHXetAKXW3UipPKZVXXFwcrjJNpby8HGWNQ9mdlJWVGV2OECJChLNp6HJgi9a6WGvtB/4D9AbSapqKAHKA3Ud7stZ6vNa6u9a6e2ZmZhjLNI8DBw6APQEdF09paanR5QghIkQ4g2A70Esp5VRKKaAPsBb4Drih5pjbgGlhrEEc5sCBAwStDgJWByUlJUaXI4SIEOHsI1hEdafwMmB1zbXGAw8DDyqlCoB04J1w1SCOVFRcTDDOiY5LpLh4n9HlCCEiRFg3r9daPwE88auHNwM9wnld8Vtaa4qLitEprdBWG/v3biYYDGK1Wo0uTQhhMJlZbBIVFRV4PG5CjiS0PYlQKMS+fXJXIISQIDCN3bur++S1I4mQI/mIx4QQ5iZBYBI7d+4EIBSfSig+9YjHhBDmFtY+AhE5tm3bBkoRcqSAsqCsturHhBCmJ0FgElu2bIH4VLBUdw4H49PYvGWLwVUJISKBNA2ZxKaCAvzxaYe+DiY0oKCgQDaxF0JIEJhBRUUFe/fsIeRMP/RY0NmQ8rIymVgmhJAgMIOCggKg+s3/oIOhsHHjRkNqEkJEDgkCE1i/fj0AocRf1mwKOtNBKTZs2GBUWUKICCFBYALr1q2D+BR0XPwvD1rj0AkNqr8nhDA1CQITWJO/Fv9h/QMH+Z0Z5OevlQ5jEREWLlzIqFGjpLnSABIEMa64uJj9JfsIJmb95nuhpCyqqirZsWOHAZUJcaSvvvqKBQsWMG/ePKNLMR0JghiXn58PQDDpt3s6HHxs7dq19VqTEEdzcLMk2Suj/kkQxLj8/HywWI8YOnpQKD4NZXMcCgshjLSvuKj6oyyGWO8kCGLc6tWrCSZmHJpRfASl8CdmsHLVqvovTIjDaK0PBcDePYUGV2M+EgQxzOPxsGnTJgJH6R84KJiUzfZt247Y2F6I+lZSUoLX58eqNIWFhTKAoZ5JEMSwdevWEQwGCSY3OuYxwaRsANasWVNfZQnxGwcXQOyW4cPt8VJcXGxwReYiQRDDVqxYAUAw6Xh3BJlgsR46VggjbN68GYDzsn1HfC3qhwRBDFu2fDmhxAywOY59kMVGMDGTpcuW119hQvzK+vXraZgAZzX0oUBmvNczCYIY5XK5WJufTyC58QmPDSQ3ZvPPBYeG7wlR39asXkWbJC8JNmiaFGL16tVGl2QqEgQxasWKFQSDQQIpTU54bCC1KVprli5dWg+VCXGkwsJC9hYV075BAID2qT7WrF6F3+83uDLzkCCIUYsXL0ZZbQSTs094bCgxAxXnYNGiRfVQmRBHWrx4MQAdG1S/8Z/Z0IfH65MBDPVIgiAGaa2Zv+An/MmNwXLkJnSO7QtxbF945BOUBV9yUxb8tJBQKFSPlQoBP/20gMwETRNnEKgOBJsFfvrpJ4MrMw8Jghi0ZcsWiov2Ekht9pvvWVz7sbj2/+bxQFozKsrLZDVSUa8qKytZmpfH2RkelKp+LMEGZzbw8f3c72Q+QT2RIIhBBxftCjRoXuvnBFJzQFlkwS9Rr3788Uf8gSA9snxHPN4jy8feomJZB6ueSBDEoLnff08oKQsd56z9k2wOAimNmfv99/JXmKg3s2fPIsupOSMlcMTj3TN9xFlh9uzZBlVmLhIEMWbnzp1s2bwZX4OWJ/3cQFoL9hQW8vPPP9d9YUL8yu7du1m2bDkXZLsPNQsdlGDTnJvh5b/fzMbj8RhToIlIEMSYH374AYDAqQRBgxag1KFzCBFOX375JUrBRY29R/3+xU08VLncfPfdd/VcmflIEMSY6mahTLQj6aSfq+MSCCY14ru5c+u+MCEO4/V6mfHFdM5O99Ewvnqk2ocbnXy48ZfmzPZpAZokaqZOnWJUmaYhQRBD9u7dy8YNG/CntTjlc/gbtGDH9u2HFgETIhy+/fZbysor6JPzS7PP9kob2yt/Ge6sFFzetIoNGzbKnhlhJkEQQw6O+PE3OPUgCNQ8V0YPiXDRWvP55M9olhTizAbHnz18QSMvzjiYPPmzeqrOnCQIYsj3P/yAdjZAx6ee8jm0PZFQUhZzv/++DisT4hdLlixh85at9Gvm+k0n8a/F2+CyJm7m/TCPXbt21U+BJhTWIFBKpSml/qWUWq+UWqeUOk8p1VAp9Y1SalPNxwbhrMEsysrKWLN6Nb7U2s8dOBZ/WjMKNm2iqKioDioT4kgff/QRDeLhvOyjdxL/2pU5bixK8+mnn4a5MvMK9x3By8BMrXV7oAuwDhgBzNFa5wJzar4Wp2nRokVorQmknX4QBGr6GBYsWHDa5xLicPn5+axYuZKrcqqw1fLdJ82hubCRh5lffyX7GYdJ2IJAKZUCXAS8A6C19mmtS4FrgUk1h00CBoWrBjOZP38+yu6s3n/gNIXiUyEhVYJA1Ln3359Ekh0uaXJycwOuaeEmGAzy2WfSVxAO4bwjaA0UA+8ppZYrpSYopRKBbK11IUDNx2NvnyVqxe/3s2jxErwpOZyw0bU2lMKXksOyZctxuVynfz4hqN58ZtGixfTLcRFvO/Hxh8tKCHFetofp06ayf/9v18oSpyecQWADzgbe0Fp3A6o4iWYgpdTdSqk8pVSe7F96fCtXrsTjdtVJs9BBgbRmBAJ+2aNA1JlJEyeSGAdX5JzaTOGBLd34/H7pKwiDcAbBTmCn1vrgIvf/ojoY9iqlGgPUfDxqj6TWerzWurvWuntmZmYYy4x+8+fPR1lsBGuxCU1tBZMaoWwO5s+fX2fnFOa1bt06flq4kKuauUiwndpaVo2dIXpne5g2dQolJSV1XKG5hS0ItNZ7gB1KqXY1D/UB1gLTgdtqHrsNmBauGsxAa80PP8zDl9IErCd5v308Fgu+lBx+nD+fQCBw4uOFOI53JrxNsh2uyHGf1nkGtXTj9/v58MMP66gyAeEfNXQf8JFSahXQFRgNPAtcoZTaBFxR87U4RWvXrqWkZN+hiWB1KdCgBZUVFaxYsaLOzy3MY9myZeQtXUb/5lUknObfKtnOEBc19vDF9OkUFhbWTYEivEGgtV5R07zTWWs9SGt9QGtdorXuo7XOrfkoPT+nYc6cOSiLNTxBkJaDstmZM2dOnZ9bmIPWmvHj36JhPPRpWjeriA5q5UYR5N13362T8wmZWRzVfD4f3/z3v/hSm4HVXvcXsNjwpTbnu7lzZfSQOCXff/8969dv4LqWlditdXPOho4QVzZ189//fsOmTZvq5qQmJ0EQxebNm0dFeTn+zLZhu4Y/sx0et5tvv/02bNcQscnn8/HWm2+QkxTiwmMsNX2q+rdwkxgHb77xhmykVAckCKKU1pp//fvfEJ9CMKVp2K4TTMpCOxvyr3//R37hxEmZMmUKhXv2clObSix1ML3lcIlxmkEtqli6bBkLFy6s25ObkARBlFq9ejXr1q7Fk9WxbiaRHYtSeLLPZOuWzSxevDh81xExpbS0lPcnTaRzup9O6cdfYfRUXdbUQ+NEzbjXX8PvD881zEKCIEq9995ElD0Bf0b4moUOCjRsDY4k3ps4Ue4KRK288847uN1ubjqjKmzXsFngpjYV7Ni5iylTZPOa0yFBEIXy8vJYvnwZ7uzOdTt34FgsVjyNu7B+3Tp+/PHH8F9PRLWNGzcyY8YXXN7UTdPEYFiv1SXdT+d0PxPfe1cmmZ0GCYIoEwgEeO31ceBIwp/V7sRPqCP+jFxISOONN97E5/PV23VFdAmFQrz00liS7XBdq9ObPFYbSsHNuZV4vR7eeuutsF8vVkkQRJnp06ezdctm3DnngqUe7gYOUhZczXqwe/cuPv/88/q7rogqs2bNYu3adfyhdSWJcfXTjNjYGeKqZm5mz57NqlWr6uWasUaCIIoUFxfz9tsTCKY0IdCgZb1fP5iaQ6BBcyZOmsTu3bvr/foispWXl/PWG+M4IzXI+Y3qdrjoiVzb0kXDeHhp7IuyJMopkCCIElprXnrpJTxeH+4WvcM7Uug4PM3PIxCCMWNekI5jcYQJEyZQVlHB7W0r6ny46Ik4rHDzGRVs3rKVqVOn1u/FY4AEQZT49ttvmT9/Pp4mXdHxKYbVoe2JuJuew7JlS/nyyy8Nq0NElnXr1vHFF9O5oqmb5snh7SA+lu6ZPjqn+3n3nQmyk9lJkiCIAiUlJbw49iVCSVn4Gp1ldDn4M9sTTGnMa6+/zt69e40uRxgsGAwy9sUXSHXA9a3D30F8LErBLbmV+L0eXn/9dcPqiEYSBBFOa82YF16gyuXC3fICUBHwI1MKd8sL8PoCPPvsc4RCIaMrEgaaPn06GzcV8Mc2Fae810BdyXaG6N/CxXfffUdeXp6htUSTCHhXEcczc+ZMflqwAE/TcwglpBldziHakYw751yWL18mbbImVlJSwtvjx3NmQz89syJjWPE1zd1kOzVjX3wBr7d+O62jlQRBBCsqKuKVV14lmNwIf/aZRpfzG/7MdgRSc3jjzTfZuXOn0eUIA4wbNw6f182tbSuNGr/wG3Yr3Jpbwa7dhbKtZS1JEEQorTXPPf88Hp+/pkkoQn7LDqcUnpbnEwgpnnnmWYJBYzoJhTGWLl3KnDlzuKa5i8bOyGoe7JTup0eWlw8//IBdu3YZXU7EkyCIUF9//TVL8/Jw53Q3dJTQiWh7Iq5mPcnPXyNNRCbi8/kY++ILZDk1A1oY10F8PDfnVmHTAV56aawMdT4BCYIItG/fPl597bXqJqHM9kaXc0KB9DYEUnN4663xsn2gSXzyySfs3LWbW3Mr6mzDmbrWwKG5vlUVS5bkyX4aJyBBEIFeeeUVPB4f7pbnR2aT0K8phadFb/whzQsvvih/fcW4bdu28eEH79Mry0vnMC0xXVcuz/HQKiXIa6++QkVFhdHlRCwJggizYMECfvjhBzyNu6DjU40up9a0Iwl3k27kLVkif33FsFAoxAtj/oldBbm5bfiWmK4rFgV/bldBWVkZ48aNM7qciCVBEEE8Hg9jX3oJ7WwQERPHTpY/qwOhxAxefe01KisrjS5HhMHUqVNZtXoNN7WpJNUeHXd+LZKDXNXMzddffy1zC45BgiCCfPTRRxQXFeFu1gssEdrwejzKgrv5eZQeOMB7771ndDWiju3atYvxb71Jp4b+Ot+DONyua+WiSaLmuWefkT9SjkKCIELs3LmTjz/5BH/DNgRTGhtdzikLJWXiy2zHlClT2Lx5s9HliDoSCAQY/fTTWEI+7mwfOXMGastuhbs6lFNSUsIrr7xidDkRR4IgAmiteeWVVwhhwdvsXKPLOW3enHPQVjsvjpVhe7Higw8+IH/tWm7NraBhfGTNGaitNikBBrZwMXv2bObMmWN0ORFFgiAC/PjjjyxevBh3465ou9Pock6fLR53k7NZs3o133zzjdHViNO0fPlyPnj/fc5v5KF3o8hYRuJUXdvSTW5qkBfG/FNmwx9GgsBgLpeLl156Ge1siD+7o9Hl1Bl/ZjtCSVm89trrlJeXG12OOEX79u3jyb8/QbYzxK1RMEroRKwW+NuZ5ViCHh5/7FE8Ho/RJUUECQKDvf3225SU7MPVondkrCxaV5TC3eI8yivKZdhelPL5fDz+2KO4K8u578wyEupxZ9RwyogP8dcO5WzZspXnn39emi+RIDDUihUrmDJlCr7sjoSSsowup86FnOl4G3Vm5syZLFq0yOhyxEnQWvPCCy+wdt167u5QQU5SbK0j1Tndzw2tq/j222/56KOPjC7HcCcMAqVUtlLqHaXU1zVfd1RK3Rn+0mJbeXk5/3jqaYhPwdv0HKPLCRtfk65oZ0NGP/MM+/fvN7ocUUsffvghs2bN4rpWLs6NkOWl61r/Fh56ZXuZMGEC3333ndHlGKo2dwQTgVlAk5qvNwKDw1WQGWitefa55yjZX0JV60vAGmd0SeFjseJqdTHl5ZU89dRTskJpFJg9ezbvvPMO5zfyMqhlZC4oVxeUgr+0r6RtWoDRo59m5cqVRpdkmNoEQYbWejIQAtBaBwD5bT4NEydOZMH8+XiadieUmGF0OWEXcjbA3bwny5Yt46233jK6HHEcCxcu5Nlnn6VjgwB/jsL5AifLboUHOpWTafczauQICgoKjC7JELUJgiqlVDqgAZRSvYCysFYVw+bMmcOkSZPwp58RkZvNhIs/sx2+rA5MnjyZGTNmGF2OOIqVK1fy+GOP0TwpwAOdyogzSQ9icpxmaJdSHCE3w4Y+ZMphpbX5UT8ITAfaKKXmA+8D99X2Akopq1JquVJqRs3XrZRSi5RSm5RSnyml7KdUeRT66aefGD16NKHkRniiZWXROuRt3pNgalNeeOEF5s6da3Q54jDr169n5IiHybD7GNq5NGZGCNVWRnyIYV1KCbjKGDL4Afbs2WN0SfXqhEGgtV4GXAz0Bv4HOFNrveokrvEAsO6wr58Dxmqtc4EDgCk6nvPy8njsscfxxzeg6ozLo3MtodOlLLjaXEYwKYv/+79/8OOPPxpdkQA2bdrE0IceJFG5Gd61lJQoWUyurjVNDDK8SylVZSUMGfwARUVFRpdUb2ozauh3wECgHdAWGKCU6qOUOuF4R6VUDnANMKHmawVcBvyr5pBJwKBTKz16zJ07l4dHjMDvSKGqbV+wmeYm6LescVTlXkHAmc7jjz/OrFmzjK7I1AoKCnjowSE4Qi5GdCmloSM6l4+oKy2SgwzrUkbpvr0MGfwAxcXFRpdUL2rTNHQn1W/kN9f89zbVzUXzlVK3nOC5LwHDqeloBtKB0poOZ4CdQNOjPVEpdbdSKk8plRfNP4ypU6fy9yefxJ+QTmXbfmBzGFaLY/tCrK4SrK4SEtZ/hWP7QmMKsdqpatsXf1IjnnnmGT799FOZ1GOAgoICHhwyGJu/khFdDpCZYO4QOKhNSoChXcooKSpk8AP3myIMahMEIaCD1vp6rfX1QEfAC/QEHj7Wk5RS/YEirfXSwx8+yqFHfQfQWo/XWnfXWnfPzMysRZmRJRAIMHbsWF566SUCqTlU5fY1NAQALK79qKAfFfRjq9iDxWXguH5rHK7cK/A3aMWbb77Jc889h88Xm+PVI9GmTZsYMvgBbP5KRnY9QHaEbT5vtNzUAMMOC4NYbyaqTRC01FrvPezrIqCt1no/cLx96s4HBiqltgKfUt0k9BKQppQ62BWVA+w+6aoj3IEDB3jooYeYNm0avkadcJ/RB6wm632rDYsVT5tL8DbpysyZM7n/gQfYt2+f0VXFvPXr1zNk8APYg1WM6iYhcCwHw2B/USEP3H8fe/fuPfGTolRtgmCeUmqGUuo2pdRtwDTgB6VUIlB6rCdprUdqrXO01i2BG4FvtdY3A98BN9QcdvB8MWPFihXc8ec7Wbl6De5WF1UvKx1LawjVNaXwNT0bd5vL2LCxgDv+fCdLliwxuqqYlZ+fz4NDhpAQqmJU1wNkSXPQceWmBhjepYyykr08cN+9FBYWGl1SWNTmHeoe4D2ga81/iwGtta7SWl96Ctd8GHhQKVVAdZ/BO6dwjogTDAZ5//33GTJkCKWeIFUd+hPIOMPosqJGoGFLKjsMoDxgZdjw4UyYMIFAIHDiJ4paW7VqFcOGPkSScjGyW2lE9Ql8uNHJtgor2yqsjF6WwocbI2c59japAR7uUkrFgWLuv++emJxnUJvhoxr4mepmoOuAPhw5HPSEtNZztdb9az7frLXuobU+Q2v9e611dO15dxR79uzhgcGDeffdd/E1aEVFh4GEnOlGlxV1QglpVLbvjy89lw8//JB77rk3Jn/pjLB06VKGDRtKmsXNqG6lZETY5jLbK224gxbcQQvrS+PYXhlZTamtUoKM7FqKp3w/9993L1u3bjW6pDp1zCBQSrVVSj2ulFoHvAbsAJTW+lKt9Wv1VmEE01oze/Zs7rjjz+Sv24C71UV4Wl8c22sHhZvVhrfVBbjbXMrGzVu4886/MGPGDBlVdBoWLVrEiBEPkxnnYWS3A6YfInqqmicHGdWtlJCrlAfuvy+mlqM43h3Beqr/+h+gtb5Aa/0qssbQIaWlpTzxxBOMHj2aKlsyFR2vrW4KMtls4XAJNGxFRcdBuBwNGTNmDCNGjKSkpMTosqLOvHnzeGTUKJrE+xjZtZRUk04WqytNE4OM6nYAq6+CIYMfYP369UaXVCeOFwTXA3uA75RSbyul+nD04Z+mM3/+fG697Xbm/Tgfb053qtpdhXYkG11WzNH2RFxt++Jp3pPFS/K49bbbTb9c8Mn49ttveeKJJ2iR5GNE11KSJQTqRCNniEe6HSA+WMmDQwazevVqo0s6bccMAq31FK31H4D2wFxgCJCtlHpDKXVlPdUXUSoqKnjmmWd45JFHKAtYqewwAF/jzjIqKJyUwp99JpUdB1JBPE8++SRPPvkkZWWy7uHxzJo1i6f+8Q9yU3wM71JKYpyEQF3KTAjxSLdSUizVC9UtX77c6JJOS206i6u01h/VdPbmACuAEWGvLMLk5eVx++13MGv2bLxNulLZvj8hZ0OjyzKNUEIaVe2vwdv0HL77/ntuu+12FixYYHRZEWnGjBk8++wztG/gZ2iX2NliMtI0jA8xqusB0uM8PDx8eFQPez6pP2W11vu11m9prS8LV0GRxuPx8PLLLzN06FBKXAGq2vfH1/Rscy4aZzRlwdekC1UdBnDApxg1ahT//Oc/cblcRlcWMaZNm8aYMWPo1NDPg53KcMjLNKzSHJqRXUvJjvcyatTIqN2SVdo0jmPjxo385a67Du0rXNFxIKGk6FvuItaEnOlUdhiAt1EnvvzyS+7485/Jz883uizDTZkyhbFjx9Itw8cDncqxSwjUixS7ZkTXUprE+3j0kVH89NNPRpd00iQIjiIUCjF58mT+9re/sbNoP662ffE27wUWuceOGBYrvmbn4mp/NXtLq7jvvvv44IMPTLsV5pQpU3j55Zc5O8PHfWdVmGZTmUiRHFcdBjlOH48/9igLFxq0oOMpkpfLr5SWlvLwwyMYN24c3pQcKjoOIph61AVSRQQIJjeiosO1eNNa8s477/Dggw+abpjptGnTDoXAvWdVYJPfakMkxmmGdykjx+njsUcfYfHixUaXVGvykjnMunXruPMvd5G3dCmeFr1xt7nM8BVDRS3Y7HhaX4y71YWsWrOWO+/8C6tWnczeSdFr5syZjB07li7pEgKR4GAYNEnw8+gjj0TNaCJ52dSYMWMG9953HyWVHirbX4M/q71MDosmShHIyKWyQ39KvSEGDx7M559/HtMzkufNm8fzzz3HmQ393CchEDES4zTDupSS6fAyauSIqJh0ZvqXTigUYty4cYwZMwZfYqPqdYISM4wuS5yiUEIDKjoMwJeaw+uvv87YsWNjcvG65cuX839P/p3WKQEGS8dwxEmxa4Z1KSNJeXh4+DB27NhhdEnHZeog8Hq9PPHEE0yePBlfVgdcuZdLU1AssNpxt+mDt1Enpk+fzshRo3C73UZXVWe2bNnCo4+MIivez4OdZYhopGroCDG8SynaW8HwYUM5cOCA0SUdk2mDwOv18sijjzJv3jw8zXribXGezBCOJUrha3Yunpbns2TJEoYPfzgm5huUlpYy4uHhxAXdPNSpjCSZMRzRsp0hhpxVRknxXh4ZNRKvNzIXWzblO5/X62XkyJHkLVmCu+UF+BudaXRJIkz8me1wt7qY1WtWM2zY8Ki+MwgEAjz++GPsLylmcKdSMiJoPwFxbG1SA/xPhwrWrlvP2LFjI7LfynRBoLXm+eefZ9myZbhbXUggs63RJYkwC6S3xt36EvLX5vOPp56K2rkGEyZMYNWq1dzZroLWKdH5bzCrc7N8XNvSxcyZM/nqq6+MLuc3TBcE77//PnPmzMHb9BwCGblGl1O/gj7i4+O54YYbiI+Ph6B5NosPNGyFp1lPFsyfz/jx440u56QtWrSITz/9lMuaeujdyDw/t1hyXSs3Zzb088rLL0XcxjamCoI1a9bw3sSJ+NPbVK8aajIq4KN///7ce++9XHPNNaiAud5Q/Nkd8WW257PPPiMvL8/ocmqtoqKC5597lpykEH88o8rocsQpsij4nw4V2PHzzDOjI2o0m2mCwOv18vToZ8CRhKdFb1POEdA2OzNmzODVV1/lyy+/RNvsRpdU77zNe0BCGs8+91zUdB6PHz+eAwcO8Jf2Mkw02qV7QNB3AAAdG0lEQVQ5NLfmVrBhw0b+85//GF3OIaYJgq+++orC3btwNe9t3q0krXY8Hg///ve/8Xg8YDVfEGCxUdXifPYVFzN16lSjqzmhgoICvpwxg8ubuqVfIEb0yPLROd3PpInvUVpaanQ5gEmCIBAI8NHHHxNKziKY0sTocoTBQsnZBFOb8ulnkyN2ON9B7777Lgk2zXWtone0U224A+qI/it3IHbv2JWCm86owuV288knnxhdDmCSIMjPz2dfcTHerDNN2SQkfsub1ZHystKIXgtm69atLFiwgCtzXDG/w5groI7ov3LFcBBA9d7HPbO8TJ82lYqKCqPLMUcQLFu2rHotGrkbEDWCKY1RFmv1ayNCzZw5E6uCPk09RpcSdk6bPqL/ymmL7eAD6NvMg9vj5YcffjC6FHMEwc6dOyE+WZaPEL+w2AglpEX0GjBzv53DWQ19pJhg0/kEmz6i/yrBBEHQOjlAtlMzd+53RpdijiDw+/2gZLiFOJJWlogawne4ffv2saeomLMa+o0uRYSJUnBmAy/5a9YQChk7S9wUQZCUlITyuyECp3YLg2iN1e8mKSnJ6EqO6uCEo+ZJkRlUom40TwrgcnvYt2+foXWYIgi6dOmC9nuwuPcbXYqIEMpbgfZW0qVLF6NLOaqqquqJY4kmaCIxs4OLBlZWVhpahymCoHv37thscdj3rDG6FBEh7HvWYLFY6dmzp9GlHJXdXj3HwxuK7dEzZucNVv98D/68jWKKIEhPT+f3v7+BuJKfsVQWGV2OMJjFtR/7vg1ce+1AGjdubHQ5R3Wwrj0u6duKZYUuKxalyMrKMrQOUwQBwM0330xGZiZJP3+L8pQbXY4wiPJWkljwX1JTU7ntttuMLueYmjdvTnqDNJbvM+kseJNYXuLgrE5nyR1BfUlKSuKFMWNw2q0kbZqN8ho/iUPUL+WrIrHgGxIsIcb885+kpaUZXdIxWSwWLrmsD8tLHBS5TfNrair5+23sqrTQp8/lRpcSviBQSjVTSn2nlFqnlMpXSj1Q83hDpdQ3SqlNNR8bhKuGX2vRogX/fP45nNYgyWunYy2N3DHkom5Zy3eTvHYa8SE3o0c/TW5u5C9BftNNN2GzxfFpgVMGvMWYQAg+/TmZrMwM+vXrZ3Q5Yb0jCAAPaa07AL2Ae5RSHYERwBytdS4wp+bretOxY0cmvP02rVs0w7npGxw7lkBQxmrHrFAA+65lODfOIqdxNm+PH0+3bt2MrqpWMjIyuPW228krdjBnl0yGjCWfFjjZVmHh3vvux+Ew/mcbtiDQWhdqrZfVfF4BrAOaAtcCk2oOmwQMClcNx9KkSRPGjXud/v37Y9+zmuT8Kdj2b5Z5BrFEa2wHtpGcPxXH7hVccfnlvPXmGzRv3tzoyk7KTTfdRM+ePfioIIllxdJfEAtm7Yhn9s4EbrjhBi666CKjywHqqY9AKdUS6AYsArK11oVQHRaAId3lDoeDoUOH8uqrr9I6J5uEn+fi3DgTa8UeI8oRdchSWYxz02wSCubQPLsBL774Io888ghOp9Po0k6axWLhscceJze3La+uSWFJkQmXDo8RWsOX2+L5aFMiF154IX/961+NLumQsAeBUioJ+DcwWGtd6+E6Sqm7lVJ5Sqm84uLisNXXqVMn3h4/niFDhtAAF871X+Fc/xXWsl0xd4cQcjZEW+PQ1jgCyY0IORsaXVLd0RpreSHODTNJXPcFKYEy7rnnHt595x3OPvtso6s7LUlJSYx54UXadejAq2uSmbolgVBsvTRjni8IE9Yn8tnPiVx88cU88cQT2Gw2o8s6ROkwvtkppeKAGcAsrfWLNY9tAC7RWhcqpRoDc7XW7Y53nu7du+v62FrQ4/EwY8YMPvr4Ew7sLyGUlIk3qyOBBi3BEhvjuRPWV2+c7W5/tcGV1JFQCFvpNhxFa7FU7CU1LY2bbryRgQMHRuUdwPF4vV7GjBnDN998Q5d0H3/pUElqjCxIN3pZCutLf2n6ap/mZ9TZsTHMu9Bl4c21KWwpt3Lrrbdy++23Y7HUz0gwpdRSrXX3Ex0XtkhSSingHWDdwRCoMR24DXi25uO0cNVwsg5ujDFw4EBmzZrFxx9/QuHm71H2xXjS2+LPbId2RObaNGajfC7iijcQX7IR7a0iKyubm/78AFdffXVEdL6Fg8PhYNSoUXTo0IE33hjHqMV2bm9bwblZ5tp7OlqENPx3ZzyTNyfhSHDyj3+M4MILLzS6rKMK573J+cAtwGql1Iqax0ZRHQCTlVJ3AtuB34exhlNit9sZMGAA11xzDXl5eUyZMoWFCxfi2LMKf2oz/JltCabmgJLx3fVKh7CW7yaueCNxpdtBh+h+bg+uu24QPXv2xGqNjbu241FK8bvf/Y6zzz6b0U8/xatrCjg7w8fNuVVkJhi7gqX4xdYKK5M2JvNzmZVevXowbNhw0tPTjS7rmMIWBFrrH4FjLZTSJ1zXrUsWi4UePXrQo0cPCgsL+eKLL5jx5VeUb/ovyu7E27AN/oxcQgmROzEpFihPGXH7NuHY/zN4q0hKTubq31ffueXk5BhdniFatmzJuDfeZPLkyUyaNJERi+0MaO7iquZuHLGfhxGrwq+YstnJnN3xpCYnM2LEPfTt2xcV4TsjhrWPoK7UVx9BbQQCARYuXMjXX3/NTz8tJBQKEkrKwpfeBn/D1hG/+U3U9BEEvMQd2Iq9pABLxV6UUvTo2ZOrr7qK8847z/Ap+ZGkqKiI119/ne+//54G8XBDq0rOb+TFEtnvPUeI9j4CXxC+2RnPF9sT8QQUg667jjvuuIPk5GRD66ptH4EEwWnYv38/33zzDV99/TXbtm4FiwV/SjMCGW0IpDaLyA7miA6CUAhr+U7i9hVgL9uBDgXJadaMq6+6iiuvvJKMjAyjK4xoK1eu5I1xr7N+w0aaJYe4oVUlXdP9UbFN94cbncwrrP4jqkVykOZJAf7U1mVwVScWDMH8PQ6mbEuixA3n9erF3f/zP7Rq1cro0gAJgnqltaagoIDZs2cza/Y3lJeVouLi8TZoiT89l1BiBpHy2xhxQaA1FlcJcfsKcJRuQfvcJKekcMXll3PllVfSrl27iL+tjiRaa+bOncuEt8eza3chbVKD3NCqkjMbRv4GN6OXpQBExZ1ASMPiIjtTtiZRWKVo1zaXv/7tfyNu1roEgUECgQBLly5l1qxZzJs3r3qbzIQ0vOlt8KefgbYnGlpfpASB8rmwlfyMY//PKNd+rDYb5/fuTb9+/ejRo0dEjbGORoFAgJkzZzJp4nsU7yuhQ4MAv2tVRbu0yA2EaAgCrWHZvjj+szWJHRUWWrZozp1/uYsLLrggIv9gkSCIAJWVlcydO5evZ84kf031pjjBlCb4MtsSSGthSNORoUEQCmEr205c8UZs5dUT9tp36MBV/fpx6aWXkpKSUv81xTiv18sXX3zBRx9+wIHSMs5q6Of6Vi7apEZeIERyEGgNK0uqA2BruYWmTRpz+x1/5rLLLovo0WoSBBFm165dzJ49m6++/prioiKUPQFvwzPwZbZFx6fWWx1GBIHylBO3byPxJQVon4uG6emH2v2jbe2faOXxeJg6dSqffPwRZeUVdMvw8btWLlokB40u7ZBIDYL8/Tb+tSWJn8usNM7O4tbb7+CKK66IirtWCYIIFQwGWbp0KV988QXz5y8gFAoSTG6ML7sjgbTmYe9LqLcg0Bpr2U4cRWuxlu1CKUWvXr0YMGCANP0YyOVy8e9//5tPP/mYKpebHlleft/aRbbT+DkIkRYEm8utfPZzEusO2MjMSOfW227nqquuiqrXrgRBFCgpKWHmzJlMnTaN4qIiSEjFk9URf3ouWMPzYgt7EIQCxJVsxlGUj3IdoGF6OoOuvZZ+/foZvh2f+EVFRQWfffYZn38+mYDPx6VN3Qxq6SbFwCUrIiUI9ros/Guzk0VFDlJTkrnl1tsYMGBAVM5YlyCIIoFAgB9++IFPP/uMjRs2oOLi8WSdiS+7I1jrdunhsAVBKEDc3nUkFK1B+9y0btOGG//wBy699FLi4mT55EhVUlLCxIkT+fLLL3FYQ/yuZRWXN/VgNWDSvNFB4AnA9G1OZu5IwBpn5//9vz9w4403kpho7ACP0yFBEIW01qxevZqPP/6YhQsXouxO3I274s9sW2fLWdR5EOgQtpKfSdi9HLyVnNO9Ozf/8Y9069YtIkdRiKPbtm0br732KkuW5JGTFOK2thX1PsLIyCBYUmTnw4JkDnjgyiuv5O67746JeSuGLzonTp5Sis6dO9O5c2dWr17NG2+8ydq1C4gvWourRW+CyY2MLvEIlspinNvmo1z7aduuHX/7618jbhy1qJ0WLVrw/PP/ZP78+bz26iuMXmahbzM3N7R2YY/cQTGnrcKneH9jIouKHJxxRhv+MXgIZ511ltFl1TsJggjVqVMnXn/9NRYsWMArr77G3vVf4WvUCW/Ts42fsRwKYS9cgaNwJenpGdw3/O9cfPHFcgcQ5ZRSXHDBBZx99tm89dZbTJs2jVX747nvrDKaJkbO6KK6su6AjXFrU6kKWPnLX+7gxhtvjKqO4Loky2dGMKUU559/Pu+9+86hbTWT1n2B8lYaV5PfReL6L3HsXsGVV1zBpInvcckll0gIxBCn08mQIUMYM2YM7rg0/m9pA5bG0DaZWsPsHfE8tyKV1Kwc3ho/nj/96U+mDQGQIIgKTqeToUOH8swzz+DUHpI2fIXy1H87qvJWkrTha+ID5fz9739n1KhRJCXJ/gyxqnv37rw1/m2atz6Dl1en8P3u6Bs182taw+ebnXy4KZFe5/XmjTffok2bNkaXZTgJgihy3nnn8fLLL5FkVyRv+Kpe7wyU303Sxq9JwM+LL7zAJZdcUm/XFsbJysrilVdfo3v3c3h3fRLzC6N71dcpWxKYsS2B/v3789RTT0X1iKC6JEEQZdq2bcsrL7+MXYVI2Ppj/eyrrDXxW3/EFvAwduyLpuxMMzOHw8HTT4+ma9euvLMhmW0V0dl7nFdsZ+pWJ/369ePBBx+st+0io4H8n4hCrVu35t5776nZrWtD2K9n278ZW+kO7r77Ltq3bx/264nI43A4eOLvfyc1rQGvr03Fb/xE5JNS6lVMWJ9Mu7a5PPTQQxICvyL/N6JU//796dChA/FFa8N+V+DYu5aWLVtxww03hPU6IrKlpaUx/OER7KlSzN0db3Q5J2X6tgS8IQuPPva4THA8CgmCKKWUYuDAgeAuxVJVHLbrWFwHsFQVM3DgAPkrStCjRw86d+7EjO2JhCJ/LipQPVfgu90JXHXV1TRr1szociKS/GZHsd69ewNgrdwbtmscPPd5550XtmuI6KGUYtCg6zjggfUHomO45ZJiO8EQDBo0yOhSIpYEQRRLTU0lOSUVi7ssbNeweEqx2x1kZ2eH7RoiuvTu3Zu4OBsrS6JjBNHyfXaaNmksw0SPQ4IgyjVs0AAV8Ibt/CrgJTUtTZqFxCHx8fF0aN+BDWWRHwQhDZvK7XTtdrZMejwO+e2OcjabDaXDOIRD64jegUkYo0PHjuyotBKI8NFDxW4LLj906NDB6FIimgRBlPMH/Ohw/rWuLAQCkbetoTBWbm4u/hDsdkX2HwnbKqv7MXJzcw2uJLJJEEQ5l8sNlvB12mmrDbfbFbbzi+jUtm1bALaUR3aH8ZZyG3E2K61atTK6lIgmQRDlvF4v2hLGcdEWGz6fL3znF1EpJyeH5KRENpZGdhBsKLNzxhlnYLdHfn+GkSQIopzP5w3rstTaYiPg9xMNGxiJ+mOxWDin+7msLo2P2PkEFT7Fz+VWzu3R0+hSIp4EQZSzWCzhnVmsQygZMSSO4uKLL6bUA2v2R+ZM3fl7HWhdXac4PvkNj3Lx8QmokD9s51fBAA6HQ4beid+44IILSEtJZuaOBKNL+Y1ACP67y0n7dm1l/kAtSBBEueysTCxhXI7a4quIib1bRd2Li4vjj3+6hTX74yLurmDubgdFLsVtt99hdClRQYIgyrVu3RqbtzRszUM2TylnyF9U4hiuvfZaGjfKZuLGZNwRMsq42G3h881JdOvahV69ehldTlSQIIhynTt3RvvcWKr21fm5Le5S8FTQqVOnOj+3iA0Oh4ORox6h2K14f2NSvWyPcTyBELy1LhkVF8/wh0dIk2YtGRIESql+SqkNSqkCpdQII2qIFeeffz4Wq5W4/Vvq/Ny2mnNedNFFdX5uETs6d+7M7bffwfw9Dr7abtzy1FrDpA3VQ1ofGjqMxo0bG1ZLtKn3IFBKWYHXgauAjsBNSqmO9V1HrEhOTuaC8y/AUbIJAnU43j8YIL54Peee20P6CMQJ3XLLLVxyySVM/jnRsO0s/7Mlge8L47nlllvo06ePITVEKyPuCHoABVrrzVprH/ApcK0BdcSMW275Ezrgxb43v87OGVe8Hu13c8stf6qzc4rYZbFYGDlyJF27dWX8+mQWF518GDRPCtA86dQ6Gr7YGs+0rU6uvvpq7rhDOohPlhFB0BTYcdjXO2seE6coNzeXCy+8kPi9q0+4oX3I2ZCQs+Fxj1F+FwmFKzine3c6d+5cl6WKGHZwb+MzO3ZkXH4yC/acXBj8qa2LP7U9ueVMtIapWxL4fHMiffr0kW0oT5ER/8eO1nvzmy4mpdTdSqk8pVRecXH4duCKFffeey9xVivx23467ggib/NeeJsffySFY/siLIQY/MADdV2miHFOp5Pn/zmGzp278NbaZObudoTtWlrD5J+d/GeLk759+zJq1ChZKfcUGREEO4HD94vLAXb/+iCt9XitdXetdffMzMx6Ky5aZWdnc9ddf8FWtgPbvk2nfB7b/s3E7d/CrbfcItv6iVPidDp59rnn6NHjXN5dnxSWDuSQhokbEvlyewIDBw7k4YcflhA4DUYEwRIgVynVSillB24EphtQR8y5/vrr6dy5C86di1HeipN+vvK5cG5fSNt27bj55pvDUKEwi/j4eJ56ejSXXHIJnxYk8q/NCXU2tDQQgjfzk/hudzw333wzQ4YMkeag01Tv//e01gHgXmAWsA6YrLWuu15OE7NYLIwaNZJ4uw3n5u/hZDas0ZqELT8QpzSPPvIINltkryopIl9cXByPPfYYV199NdO3Ovlok/O0w8AfglfXJLOwyMHdd9/NXXfdJXMF6oAhMaq1/kpr3VZr3UZr/bQRNcSqRo0aMfShh7BUFmHfvaLWz4vbuwZr+W7uv/8+mjdvHsYKhZlYrVaGDRvGDTfcwOydCXywMfGUw8AXhFdWp7B8n53Bgwfzxz/+sW6LNTG5n4pBffr04YorrsBRuBJL5Yk72i2u/cTvWsYFF1zANddcUw8VCjNRSnHPPffwhz/8gf/uij+lO4NAzZ3AypI4hg4dyqBBg8JTrElJEMSo+++/n/T0DBK3zoPQccZm6xDOrfNISU5m6NChcpstwkIpxV//+ld+//vfM3tnAtO21n7F0pCGCeuSWFliZ8iQIfTv3z+MlZqTBEGMSk5OZsTDw8Fdir1w9TGPi9ubj6oq4aEHh5CWllaPFQqzUUrxt7/9jb59+/KfLc5azzOYuiWBBXsd3HnnnVx7rcw9DQcJghh27rnncumll+HYswrlKf/N95XPRcLuFfTq1UvWExL1wmKxMGzYMDp37sQ7G5LZWnH8IZ9Li+OYutVJv379+NOfZJZ7uEgQxLh77vlf4qwWHLuX/+Z79t0rUDrE/fffL01Cot7YbDb+7//+QWpaQ95cm4ovePTjDngV72xIoV3bXIYMGSKv0TCSIIhxGRkZ/O53vyOu5GeUu+zQ48pbiX3fRvr3v4YmTZoYWKEwo7S0NEaMHMXuKsV/tjiPesykDUn4iePRxx7H4QjfDGUhQWAKN954I1arFXvRukOPxRWvR6FlCJ4wTPfu3enXrx+zdiaw13XkW9Ga/XEs22fn9jv+LDPc64EEgQk0aNCAiy++GMf+n6tHEOkQ8SUF9OrVi0aNGhldnjCxu+66i7g4O1O3/nJXoDX8a3MijbKzuP766w2szjwkCEyib9++6IAXa3kh1soitM9F3759jS5LmFx6ejrX9B/Awr0O9nur3442ldnYXG7lpj/ejN1uzN4GZiNBYBLdunXDER+PrXQHttLtWG02evToYXRZQnDdddcR1PBTzXDSHwodOBPi5Q+VeiRBYBJ2u50unTsTV1WErbKIDu3b43QevZNOiPqUk5ND+/btWFwcTzAEefviOf+CC4mPN27bS7ORIDCRDh06oFz7sVQW0bGj7A4qIkfv3uezpdzKV9vjcfmr9+IW9UeWmDSRAQMG4Pf70VozcOBAo8sR4pCePXvy7rvv8vnmROLibHTt2tXokkxF6bpaJDyMunfvrvPy8owuQwgRRnv27MHtdpOSkkJ6errR5cQEpdRSrXX3Ex0ndwRCiIggQ5mNI30EQghhchIEQghhchIEQghhchIEQghhchIEQghhchIEQghhchIEQghhclExoUwpVQxsM7qOGJIB7DO6CCGOQl6bdauF1jrzRAdFRRCIuqWUyqvNbEMh6pu8No0hTUNCCGFyEgRCCGFyEgTmNN7oAoQ4BnltGkD6CIQQwuTkjkAIIUxOgsDklFKXKKVmGF2HiA1KqfuVUuuUUh+F6fx/V0oNDce5zUz2IxBC1KX/Ba7SWm8xuhBRe3JHEAOUUi2VUuuVUhOUUmuUUh8ppS5XSs1XSm1SSvWo+W+BUmp5zcd2RzlPolLqXaXUkprjrjXi3yOik1LqTaA1MF0p9cjRXktKqduVUlOVUl8opbYope5VSj1Yc8xCpVTDmuPuqnnuSqXUv5VSzqNcr41SaqZSaqlSap5Sqn39/otjhwRB7DgDeBnoDLQH/ghcAAwFRgHrgYu01t2Ax4HRRznHI8C3WutzgUuBfyqlEuuhdhEDtNZ/BXZT/dpJ5NivpbOofn32AJ4GXDWvy5+AW2uO+Y/W+lytdRdgHXDnUS45HrhPa30O1a/zceH5l8U+aRqKHVu01qsBlFL5wByttVZKrQZaAqnAJKVULqCBuKOc40pg4GFtsPFAc6p/EYU4Gcd6LQF8p7WuACqUUmXAFzWPr6b6DxmAs5RSTwFpQBIw6/CTK6WSgN7A50qpgw87wvEPMQMJgtjhPezz0GFfh6j+Of+D6l/A65RSLYG5RzmHAq7XWm8IX5nCJI76WlJK9eTEr1WAicAgrfVKpdTtwCW/Or8FKNVad63bss1JmobMIxXYVfP57cc4ZhZwn6r5E0sp1a0e6hKx6XRfS8lAoVIqDrj519/UWpcDW5RSv685v1JKdTnNmk1LgsA8ngeeUUrNB6zHOOYfVDcZrVJKran5WohTcbqvpceARcA3VPdvHc3NwJ1KqZVAPiCDG06RzCwWQgiTkzsCIYQwOQkCIYQwOQkCIYQwOQkCIYQwOQkCIYQwOQkCIU6gZt2cfKXUKqXUippJUULEDJlZLMRxKKXOA/oDZ2utvUqpDMBucFlC1Cm5IxDi+BoD+7TWXgCt9T6t9W6l1DlKqe9rVr6cpZRqrJSy1ayYeQmAUuoZpdTTRhYvRG3IhDIhjqNmcbMfASfwX+AzYAHwPXCt1rpYKfUHoK/W+s9KqTOBfwH3Uz2bu6fW2mdM9ULUjjQNCXEcWutKpdQ5wIVUL6f8GfAU1Uspf1OzlI4VKKw5Pl8p9QHVK2qeJyEgooEEgRAnoLUOUr1a69yaZb3vAfK11ucd4ymdgFIgu34qFOL0SB+BEMehlGpXs4fDQV2p3p8hs6YjGaVUXE2TEEqp3wHpwEXAK0qptPquWYiTJX0EQhxHTbPQq1RvkBIACoC7gRzgFaqX97YBLwFTqO4/6KO13qGUuh84R2t9mxG1C1FbEgRCCGFy0jQkhBAmJ0EghBAmJ0EghBAmJ0EghBAmJ0EghBAmJ0EghBAmJ0EghBAmJ0EghBAm9/8BcTtKxB6QdTEAAAAASUVORK5CYII=\n",
      "text/plain": [
       "<Figure size 432x288 with 1 Axes>"
      ]
     },
     "metadata": {},
     "output_type": "display_data"
    }
   ],
   "source": [
    "sns.violinplot(x=\"Sex\", y=\"Age\", data=df)"
   ]
  },
  {
   "cell_type": "markdown",
   "metadata": {},
   "source": [
    "## Normal Distribution\n",
    "\n",
    "- It is possible that when we plot a histogram or PDF of an array, it has a Bell Shape \n",
    "\n",
    "- The name of this histogram is **Normal**"
   ]
  },
  {
   "cell_type": "code",
   "execution_count": 13,
   "metadata": {},
   "outputs": [
    {
     "data": {
      "text/plain": [
       "<matplotlib.axes._subplots.AxesSubplot at 0x1a23893b70>"
      ]
     },
     "execution_count": 13,
     "metadata": {},
     "output_type": "execute_result"
    },
    {
     "data": {
      "image/png": "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\n",
      "text/plain": [
       "<Figure size 432x288 with 1 Axes>"
      ]
     },
     "metadata": {},
     "output_type": "display_data"
    }
   ],
   "source": [
    "import numpy as np\n",
    "import seaborn as sns\n",
    "\n",
    "# Generate 1000 samples with 60 as its mean and 10 as its std\n",
    "a = np.random.normal(60, 10, 1000)\n",
    "sns.distplot(a, hist=True, kde=True, bins=20)"
   ]
  },
  {
   "cell_type": "markdown",
   "metadata": {},
   "source": [
    "## Activity: \n",
    "\n",
    "- The intrsuctor of DS graded last term's final exam. They are reporting that the mean was 60 (with scale of 100) with standard deviation of 10. \n",
    "\n",
    "_What is the probability that students got more than 70?_"
   ]
  },
  {
   "cell_type": "code",
   "execution_count": 15,
   "metadata": {},
   "outputs": [
    {
     "name": "stdout",
     "output_type": "stream",
     "text": [
      "0.15865525393145707\n"
     ]
    },
    {
     "data": {
      "text/plain": [
       "0.15865525393145707"
      ]
     },
     "execution_count": 15,
     "metadata": {},
     "output_type": "execute_result"
    }
   ],
   "source": [
    "from scipy.stats import norm\n",
    "\n",
    "print(norm.sf(70, loc=60, scale=10))\n",
    "\n",
    "# or\n",
    "\n",
    "1 - norm.cdf(70, loc=60, scale=10)"
   ]
  },
  {
   "cell_type": "markdown",
   "metadata": {},
   "source": [
    "## Normal Distribution Properties:\n",
    "\n",
    "When the data is Normally distributed:\n",
    "\n",
    "- 68% of the data is captured within one standard deviation from the mean.\n",
    "- 95% of the data is captured within two standard deviations from the mean.\n",
    "- 99.7% of the data is captured within three standard deviations from the mean."
   ]
  },
  {
   "cell_type": "markdown",
   "metadata": {},
   "source": [
    "<br><img src=\"http://www.oswego.edu/~srp/stats/images/normal_34.gif\" /><br>"
   ]
  },
  {
   "cell_type": "markdown",
   "metadata": {},
   "source": [
    "## Activity:\n",
    "\n",
    "- Show that about 68% of the values are in the [50, 70] range\n"
   ]
  },
  {
   "cell_type": "code",
   "execution_count": 16,
   "metadata": {},
   "outputs": [
    {
     "data": {
      "text/plain": [
       "0.6826894921370859"
      ]
     },
     "execution_count": 16,
     "metadata": {},
     "output_type": "execute_result"
    }
   ],
   "source": [
    "norm.cdf(70, loc=60, scale=10) - norm.cdf(50, loc=60, scale=10)"
   ]
  },
  {
   "cell_type": "markdown",
   "metadata": {},
   "source": [
    "## If we scale the Normal Distribution, the result is zero mean and unit std \n",
    "\n",
    "**Unit std** means you are converting your data from its original units to units of standard deviation"
   ]
  },
  {
   "cell_type": "code",
   "execution_count": 18,
   "metadata": {},
   "outputs": [
    {
     "data": {
      "text/plain": [
       "<matplotlib.axes._subplots.AxesSubplot at 0x1a239c5128>"
      ]
     },
     "execution_count": 18,
     "metadata": {},
     "output_type": "execute_result"
    },
    {
     "data": {
      "image/png": "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\n",
      "text/plain": [
       "<Figure size 432x288 with 1 Axes>"
      ]
     },
     "metadata": {},
     "output_type": "display_data"
    }
   ],
   "source": [
    "b = (a - 60)/10\n",
    "sns.distplot(b, hist=True, kde=True, bins=20)"
   ]
  },
  {
   "cell_type": "markdown",
   "metadata": {},
   "source": [
    "## Z-Distribution \n",
    "\n",
    "- Z-distribution is another name for _standard Normal distribution_\n",
    "\n",
    "- When the samples of our numerical array are Normal with an arbitrary mean and std\n",
    "\n",
    "- If scale each element by subtracting elements from the mean, and divide over the std, then the new array would be a Normal distribution with zero mean, and std 1 "
   ]
  },
  {
   "cell_type": "code",
   "execution_count": null,
   "metadata": {},
   "outputs": [],
   "source": []
  }
 ],
 "metadata": {
  "kernelspec": {
   "display_name": "Python 3",
   "language": "python",
   "name": "python3"
  },
  "language_info": {
   "codemirror_mode": {
    "name": "ipython",
    "version": 3
   },
   "file_extension": ".py",
   "mimetype": "text/x-python",
   "name": "python",
   "nbconvert_exporter": "python",
   "pygments_lexer": "ipython3",
<<<<<<< HEAD
   "version": "3.7.4"
=======
   "version": "3.6.5"
>>>>>>> 7405d26772a418d9ef29176ace4c0a97ec710885
  }
 },
 "nbformat": 4,
 "nbformat_minor": 2
}
