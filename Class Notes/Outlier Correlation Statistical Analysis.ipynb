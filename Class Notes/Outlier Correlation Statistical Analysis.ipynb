{
 "cells": [
  {
   "cell_type": "markdown",
   "metadata": {},
   "source": [
    "# For the given Brain Size dataset:\n",
    ">- compare VIQ fore female and male"
   ]
  },
  {
   "cell_type": "code",
   "execution_count": 75,
   "metadata": {},
   "outputs": [
    {
     "data": {
      "text/html": [
       "<div>\n",
       "<style scoped>\n",
       "    .dataframe tbody tr th:only-of-type {\n",
       "        vertical-align: middle;\n",
       "    }\n",
       "\n",
       "    .dataframe tbody tr th {\n",
       "        vertical-align: top;\n",
       "    }\n",
       "\n",
       "    .dataframe thead th {\n",
       "        text-align: right;\n",
       "    }\n",
       "</style>\n",
       "<table border=\"1\" class=\"dataframe\">\n",
       "  <thead>\n",
       "    <tr style=\"text-align: right;\">\n",
       "      <th></th>\n",
       "      <th>Unnamed: 0</th>\n",
       "      <th>Gender</th>\n",
       "      <th>FSIQ</th>\n",
       "      <th>VIQ</th>\n",
       "      <th>PIQ</th>\n",
       "      <th>Weight</th>\n",
       "      <th>Height</th>\n",
       "      <th>MRI_Count</th>\n",
       "    </tr>\n",
       "  </thead>\n",
       "  <tbody>\n",
       "    <tr>\n",
       "      <td>0</td>\n",
       "      <td>1</td>\n",
       "      <td>Female</td>\n",
       "      <td>133</td>\n",
       "      <td>132</td>\n",
       "      <td>124</td>\n",
       "      <td>118.0</td>\n",
       "      <td>64.5</td>\n",
       "      <td>816932</td>\n",
       "    </tr>\n",
       "    <tr>\n",
       "      <td>1</td>\n",
       "      <td>2</td>\n",
       "      <td>Male</td>\n",
       "      <td>140</td>\n",
       "      <td>150</td>\n",
       "      <td>124</td>\n",
       "      <td>NaN</td>\n",
       "      <td>72.5</td>\n",
       "      <td>1001121</td>\n",
       "    </tr>\n",
       "    <tr>\n",
       "      <td>2</td>\n",
       "      <td>3</td>\n",
       "      <td>Male</td>\n",
       "      <td>139</td>\n",
       "      <td>123</td>\n",
       "      <td>150</td>\n",
       "      <td>143.0</td>\n",
       "      <td>73.3</td>\n",
       "      <td>1038437</td>\n",
       "    </tr>\n",
       "    <tr>\n",
       "      <td>3</td>\n",
       "      <td>4</td>\n",
       "      <td>Male</td>\n",
       "      <td>133</td>\n",
       "      <td>129</td>\n",
       "      <td>128</td>\n",
       "      <td>172.0</td>\n",
       "      <td>68.8</td>\n",
       "      <td>965353</td>\n",
       "    </tr>\n",
       "    <tr>\n",
       "      <td>4</td>\n",
       "      <td>5</td>\n",
       "      <td>Female</td>\n",
       "      <td>137</td>\n",
       "      <td>132</td>\n",
       "      <td>134</td>\n",
       "      <td>147.0</td>\n",
       "      <td>65.0</td>\n",
       "      <td>951545</td>\n",
       "    </tr>\n",
       "  </tbody>\n",
       "</table>\n",
       "</div>"
      ],
      "text/plain": [
       "   Unnamed: 0  Gender  FSIQ  VIQ  PIQ  Weight  Height  MRI_Count\n",
       "0           1  Female   133  132  124   118.0    64.5     816932\n",
       "1           2    Male   140  150  124     NaN    72.5    1001121\n",
       "2           3    Male   139  123  150   143.0    73.3    1038437\n",
       "3           4    Male   133  129  128   172.0    68.8     965353\n",
       "4           5  Female   137  132  134   147.0    65.0     951545"
      ]
     },
     "execution_count": 75,
     "metadata": {},
     "output_type": "execute_result"
    }
   ],
   "source": [
    "import pandas as pd\n",
    "from pandas.plotting import scatter_matrix\n",
    "import matplotlib.pyplot as plt\n",
    "from scipy import stats\n",
    "\n",
    "# data = pd.read_csv('brain_size.csv')\n",
    "data = pd.read_csv('brain_size.csv', sep=';', na_values='.') # sep and na_values cleans the data\n",
    "\n",
    "data.head()"
   ]
  },
  {
   "cell_type": "markdown",
   "metadata": {},
   "source": [
    ">- mean VIQ for female = 109.45\n",
    ">- mean VIQ for male = 115.25"
   ]
  },
  {
   "cell_type": "code",
   "execution_count": 32,
   "metadata": {},
   "outputs": [
    {
     "data": {
      "text/plain": [
       "115.25"
      ]
     },
     "execution_count": 32,
     "metadata": {},
     "output_type": "execute_result"
    }
   ],
   "source": [
    "male_mean_viq = data[data['Gender'] == 'Male']['VIQ'].agg(np.mean)\n",
    "male_mean_viq"
   ]
  },
  {
   "cell_type": "code",
   "execution_count": 31,
   "metadata": {},
   "outputs": [
    {
     "data": {
      "text/plain": [
       "109.45"
      ]
     },
     "execution_count": 31,
     "metadata": {},
     "output_type": "execute_result"
    }
   ],
   "source": [
    "female_viq = data[data['Gender'] == 'Female']['VIQ'].agg(np.mean)\n",
    "female_mean_viq"
   ]
  },
  {
   "cell_type": "markdown",
   "metadata": {},
   "source": [
    "# Steps:\n",
    "1. Obtain the mean VIQ for the male and female samples\n",
    "2. Can we accept that population average(mean) of VIQ are the same for male and female?\n",
    ">- Hint: calculate the T-test for the means of two independent samples\n",
    ">- If the p-value is smaller than the threshold, e.g 1%, 5% or 10%, then we can reject the null hypothesis of equal average (accept different population average)"
   ]
  },
  {
   "cell_type": "code",
   "execution_count": 55,
   "metadata": {},
   "outputs": [
    {
     "name": "stdout",
     "output_type": "stream",
     "text": [
      "stat=0.773, p=0.444529\n",
      "Probably the same distribution\n"
     ]
    }
   ],
   "source": [
    "# example of the Student's t-test\n",
    "from scipy.stats import ttest_ind\n",
    "\n",
    "data1= data[data['Gender'] == 'Male']['VIQ']\n",
    "data2 = data[data['Gender'] == 'Female']['VIQ']\n",
    "stat, p = ttest_ind(data1, data2)\n",
    "\n",
    "print('stat=%.3f, p=%3f' % (stat, p))\n",
    "\n",
    "if p > 0.05:\n",
    "    print('Probably the same distribution')\n",
    "else:\n",
    "    print('Probably different distributions')"
   ]
  },
  {
   "cell_type": "markdown",
   "metadata": {},
   "source": [
    "# Extend the above analysis of 'FSIQ', 'VIQ', 'Weight', 'Height' for male and female\n",
    "> - Performance IQ (PIQ)\n",
    "> - Verbal IQ (VIQ)\n",
    "> - Full Scale Intelligence Quotient (FSIQ)"
   ]
  },
  {
   "cell_type": "code",
   "execution_count": 56,
   "metadata": {},
   "outputs": [
    {
     "data": {
      "text/plain": [
       "Index(['FSIQ', 'VIQ', 'PIQ', 'Weight', 'Height'], dtype='object')"
      ]
     },
     "execution_count": 56,
     "metadata": {},
     "output_type": "execute_result"
    }
   ],
   "source": [
    "data.columns[2:7] # we are specifying which columns we want to use"
   ]
  },
  {
   "cell_type": "code",
   "execution_count": 57,
   "metadata": {},
   "outputs": [
    {
     "data": {
      "text/plain": [
       "array(['Female', 'Male'], dtype=object)"
      ]
     },
     "execution_count": 57,
     "metadata": {},
     "output_type": "execute_result"
    }
   ],
   "source": [
    "data['Gender'].unique()"
   ]
  },
  {
   "cell_type": "code",
   "execution_count": 62,
   "metadata": {},
   "outputs": [
    {
     "name": "stdout",
     "output_type": "stream",
     "text": [
      "stat=-0.4026724743703011, p=0.6894456253897778\n",
      "(111.9, 115.0)\n",
      "Probably the female and male have the same distribution for FSIQ\n",
      "stat=-0.7726161723275011, p=0.44452876778583217\n",
      "(109.45, 115.25)\n",
      "Probably the female and male have the same distribution for VIQ\n",
      "stat=-0.15980113150762698, p=0.8738841403250049\n",
      "(110.45, 111.6)\n",
      "Probably the female and male have the same distribution for PIQ\n",
      "stat=-4.870950921940696, p=2.227293018362118e-05\n",
      "(137.2, 166.44444444444446)\n",
      "Probably the female and male have the different distribution for Weight\n",
      "stat=-6.280184459523685, p=2.623667704653113e-07\n",
      "(65.765, 71.43157894736842)\n",
      "Probably the female and male have the different distribution for Height\n"
     ]
    }
   ],
   "source": [
    "# instructors code:\n",
    "\n",
    "for category in data.columns[2:7]:\n",
    "    ls = []\n",
    "    for gender in data['Gender'].unique():\n",
    "        ls.append(data[data['Gender'] == gender][category].dropna().values)\n",
    "    stat, p = stats.ttest_ind(ls[0], ls[1])\n",
    "    print('stat={}, p={}'.format(stat,p))\n",
    "    print((np.mean(ls[0]), np.mean(ls[1])))\n",
    "    \n",
    "    if p > 0.05:\n",
    "        print('Probably the female and male have the same distribution for {}'.format(category))\n",
    "    else:\n",
    "        print('Probably the female and male have the different distribution for {}'.format(category))"
   ]
  },
  {
   "cell_type": "code",
   "execution_count": 36,
   "metadata": {},
   "outputs": [
    {
     "name": "stdout",
     "output_type": "stream",
     "text": [
      "stat=0.403, p=0.689446\n",
      "Probably the same distribution\n"
     ]
    }
   ],
   "source": [
    "# example of the Student's t-test\n",
    "from scipy.stats import ttest_ind\n",
    "\n",
    "data1= data[data['Gender'] == 'Male']['FSIQ']\n",
    "data2 = data[data['Gender'] == 'Female']['FSIQ']\n",
    "stat, p = ttest_ind(data1, data2)\n",
    "\n",
    "print('stat=%.3f, p=%3f' % (stat, p))\n",
    "\n",
    "if p > 0.05:\n",
    "    print('Probably the same distribution')\n",
    "else:\n",
    "    print('Probably different distributions')"
   ]
  },
  {
   "cell_type": "code",
   "execution_count": 40,
   "metadata": {},
   "outputs": [
    {
     "name": "stdout",
     "output_type": "stream",
     "text": [
      "stat=0.160, p=0.873884\n",
      "Probably the same distribution\n"
     ]
    }
   ],
   "source": [
    "# example of the Student's t-test\n",
    "from scipy.stats import ttest_ind\n",
    "\n",
    "data1= data[data['Gender'] == 'Male']['PIQ']\n",
    "data2 = data[data['Gender'] == 'Female']['PIQ']\n",
    "stat, p = ttest_ind(data1, data2)\n",
    "\n",
    "print('stat=%.3f, p=%3f' % (stat, p))\n",
    "\n",
    "if p > 0.05:\n",
    "    print('Probably the same distribution')\n",
    "else:\n",
    "    print('Probably different distributions')"
   ]
  },
  {
   "cell_type": "code",
   "execution_count": 47,
   "metadata": {},
   "outputs": [],
   "source": [
    "male_weight = data[data['Gender'] == 'Male']['Weight'].dropna() # Need to remove the NaN values "
   ]
  },
  {
   "cell_type": "code",
   "execution_count": 48,
   "metadata": {},
   "outputs": [],
   "source": [
    "female_weight = data[data['Gender'] == 'Female']['Weight'].dropna()"
   ]
  },
  {
   "cell_type": "code",
   "execution_count": 49,
   "metadata": {},
   "outputs": [
    {
     "name": "stdout",
     "output_type": "stream",
     "text": [
      "stat=4.871, p=0.000022\n",
      "Probably different distributions\n"
     ]
    }
   ],
   "source": [
    "# example of the Student's t-test\n",
    "from scipy.stats import ttest_ind\n",
    "\n",
    "data1= male_weight\n",
    "data2 = female_weight\n",
    "stat, p = ttest_ind(data1, data2)\n",
    "\n",
    "print('stat=%.3f, p=%3f' % (stat, p))\n",
    "\n",
    "if p > 0.05:\n",
    "    print('Probably the same distribution')\n",
    "else:\n",
    "    print('Probably different distributions')"
   ]
  },
  {
   "cell_type": "code",
   "execution_count": 50,
   "metadata": {},
   "outputs": [],
   "source": [
    "male_height = data[data['Gender'] == 'Male']['Height'].dropna()"
   ]
  },
  {
   "cell_type": "code",
   "execution_count": 51,
   "metadata": {},
   "outputs": [],
   "source": [
    "female_height = data[data['Gender'] == 'Female']['Height'].dropna()"
   ]
  },
  {
   "cell_type": "code",
   "execution_count": 52,
   "metadata": {},
   "outputs": [
    {
     "name": "stdout",
     "output_type": "stream",
     "text": [
      "stat=6.280, p=0.000000\n",
      "Probably different distributions\n"
     ]
    }
   ],
   "source": [
    "# example of the Student's t-test\n",
    "from scipy.stats import ttest_ind\n",
    "\n",
    "data1= male_height\n",
    "data2 = female_height\n",
    "stat, p = ttest_ind(data1, data2)\n",
    "\n",
    "print('stat=%.3f, p=%3f' % (stat, p))\n",
    "\n",
    "if p > 0.05:\n",
    "    print('Probably the same distribution')\n",
    "else:\n",
    "    print('Probably different distributions')"
   ]
  },
  {
   "cell_type": "code",
   "execution_count": 120,
   "metadata": {},
   "outputs": [
    {
     "data": {
      "text/plain": [
       "array([[<matplotlib.axes._subplots.AxesSubplot object at 0x1a24ffd1d0>,\n",
       "        <matplotlib.axes._subplots.AxesSubplot object at 0x1a251aac50>],\n",
       "       [<matplotlib.axes._subplots.AxesSubplot object at 0x1a25251910>,\n",
       "        <matplotlib.axes._subplots.AxesSubplot object at 0x1a2528dc90>]],\n",
       "      dtype=object)"
      ]
     },
     "execution_count": 120,
     "metadata": {},
     "output_type": "execute_result"
    },
    {
     "data": {
      "image/png": "[encoded data removed]",
      "text/plain": [
       "<Figure size 432x288 with 4 Axes>"
      ]
     },
     "metadata": {
      "needs_background": "light"
     },
     "output_type": "display_data"
    }
   ],
   "source": [
    "from pandas.plotting import scatter_matrix\n",
    "\n",
    "scatter_matrix(data[['Weight', 'Height']]) # correlation between height and weight\n",
    "# taller person => heavier"
   ]
  },
  {
   "cell_type": "code",
   "execution_count": 72,
   "metadata": {},
   "outputs": [
    {
     "data": {
      "text/html": [
       "<div>\n",
       "<style scoped>\n",
       "    .dataframe tbody tr th:only-of-type {\n",
       "        vertical-align: middle;\n",
       "    }\n",
       "\n",
       "    .dataframe tbody tr th {\n",
       "        vertical-align: top;\n",
       "    }\n",
       "\n",
       "    .dataframe thead th {\n",
       "        text-align: right;\n",
       "    }\n",
       "</style>\n",
       "<table border=\"1\" class=\"dataframe\">\n",
       "  <thead>\n",
       "    <tr style=\"text-align: right;\">\n",
       "      <th></th>\n",
       "      <th>Id</th>\n",
       "      <th>SepalLengthCm</th>\n",
       "      <th>SepalWidthCm</th>\n",
       "      <th>PetalLengthCm</th>\n",
       "      <th>PetalWidthCm</th>\n",
       "      <th>Species</th>\n",
       "    </tr>\n",
       "  </thead>\n",
       "  <tbody>\n",
       "    <tr>\n",
       "      <td>0</td>\n",
       "      <td>1</td>\n",
       "      <td>5.1</td>\n",
       "      <td>3.5</td>\n",
       "      <td>1.4</td>\n",
       "      <td>0.2</td>\n",
       "      <td>Iris-setosa</td>\n",
       "    </tr>\n",
       "    <tr>\n",
       "      <td>1</td>\n",
       "      <td>2</td>\n",
       "      <td>4.9</td>\n",
       "      <td>3.0</td>\n",
       "      <td>1.4</td>\n",
       "      <td>0.2</td>\n",
       "      <td>Iris-setosa</td>\n",
       "    </tr>\n",
       "    <tr>\n",
       "      <td>2</td>\n",
       "      <td>3</td>\n",
       "      <td>4.7</td>\n",
       "      <td>3.2</td>\n",
       "      <td>1.3</td>\n",
       "      <td>0.2</td>\n",
       "      <td>Iris-setosa</td>\n",
       "    </tr>\n",
       "    <tr>\n",
       "      <td>3</td>\n",
       "      <td>4</td>\n",
       "      <td>4.6</td>\n",
       "      <td>3.1</td>\n",
       "      <td>1.5</td>\n",
       "      <td>0.2</td>\n",
       "      <td>Iris-setosa</td>\n",
       "    </tr>\n",
       "    <tr>\n",
       "      <td>4</td>\n",
       "      <td>5</td>\n",
       "      <td>5.0</td>\n",
       "      <td>3.6</td>\n",
       "      <td>1.4</td>\n",
       "      <td>0.2</td>\n",
       "      <td>Iris-setosa</td>\n",
       "    </tr>\n",
       "  </tbody>\n",
       "</table>\n",
       "</div>"
      ],
      "text/plain": [
       "   Id  SepalLengthCm  SepalWidthCm  PetalLengthCm  PetalWidthCm      Species\n",
       "0   1            5.1           3.5            1.4           0.2  Iris-setosa\n",
       "1   2            4.9           3.0            1.4           0.2  Iris-setosa\n",
       "2   3            4.7           3.2            1.3           0.2  Iris-setosa\n",
       "3   4            4.6           3.1            1.5           0.2  Iris-setosa\n",
       "4   5            5.0           3.6            1.4           0.2  Iris-setosa"
      ]
     },
     "execution_count": 72,
     "metadata": {},
     "output_type": "execute_result"
    }
   ],
   "source": [
    "df = pd.read_csv('Iris.csv')\n",
    "\n",
    "df.describe()\n",
    "df.head()"
   ]
  },
  {
   "cell_type": "code",
   "execution_count": 69,
   "metadata": {},
   "outputs": [
    {
     "data": {
      "text/plain": [
       "Index(['Id', 'SepalLengthCm', 'SepalWidthCm', 'PetalLengthCm', 'PetalWidthCm',\n",
       "       'Species'],\n",
       "      dtype='object')"
      ]
     },
     "execution_count": 69,
     "metadata": {},
     "output_type": "execute_result"
    }
   ],
   "source": [
    "df.columns[:]"
   ]
  },
  {
   "cell_type": "markdown",
   "metadata": {},
   "source": [
    "# Obtain the STD of Iris-Setosa for sepal length"
   ]
  },
  {
   "cell_type": "code",
   "execution_count": 87,
   "metadata": {},
   "outputs": [
    {
     "data": {
      "text/plain": [
       "0.3524896872134512"
      ]
     },
     "execution_count": 87,
     "metadata": {},
     "output_type": "execute_result"
    }
   ],
   "source": [
    "# STD  or sigma\n",
    "std = df[df['Species'] == 'Iris-setosa']['SepalLengthCm'].std()\n",
    "std"
   ]
  },
  {
   "cell_type": "code",
   "execution_count": 88,
   "metadata": {},
   "outputs": [
    {
     "data": {
      "text/plain": [
       "5.005999999999999"
      ]
     },
     "execution_count": 88,
     "metadata": {},
     "output_type": "execute_result"
    }
   ],
   "source": [
    "# Mean or x_bar\n",
    "x_bar = df[df['Species'] == 'Iris-setosa']['SepalLengthCm'].mean()\n",
    "x_bar"
   ]
  },
  {
   "cell_type": "code",
   "execution_count": null,
   "metadata": {},
   "outputs": [],
   "source": []
  },
  {
   "cell_type": "code",
   "execution_count": 96,
   "metadata": {},
   "outputs": [
    {
     "name": "stdout",
     "output_type": "stream",
     "text": [
      "5.006\n",
      "(4.908293780383348, 5.103706219616653)\n",
      "(4.905823539430869, 5.106176460569132)\n"
     ]
    }
   ],
   "source": [
    "import pandas as pd\n",
    "import numpy as np\n",
    "import scipy.stats\n",
    "\n",
    "x = df[df['Species'] == 'Iris-setosa']['SepalLengthCm'].tolist()\n",
    "print(np.mean(x))\n",
    "\n",
    "def ci_z(data_sample, significant_level, sigma):\n",
    "    \n",
    "    z_score = scipy.stats.norm.ppf(1-significant_level/2)\n",
    "    L = np.mean(data_sample) - z_score*sigma/np.sqrt(len(data_sample)) # L = lowerbound\n",
    "    U = np.mean(data_sample) + z_score*sigma/np.sqrt(len(data_sample)) # U = upperbound\n",
    "    return L, U\n",
    "\n",
    "def ci_t(data_sample, significant_level):\n",
    "    t_score = scipy.stats.t.ppf(1-significant_level/2, len(data_sample) - 1)\n",
    "    L = np.mean(data_sample) - t_score * np.std(data_sample, ddof=1) / np.sqrt(len(data_sample))\n",
    "    U = np.mean(data_sample) + t_score * np.std(data_sample, ddof=1) / np.sqrt(len(data_sample))\n",
    "    return L, U\n",
    "\n",
    "print(ci_z(x, 0.05, 0.3525))\n",
    "print(ci_t(x, 0.05)) # alpha = significant level (for example 0.05)"
   ]
  },
  {
   "cell_type": "markdown",
   "metadata": {},
   "source": [
    "## Learning Objectives:\n",
    "\n",
    "By the end of this lesson, students will be able to:\n",
    "\n",
    "- Describe an outlier and how to remove outliers for univariate data\n",
    "- Visualize the outliers through box-plots\n",
    "- Describe how to use a Gaussian Mixture Model to fit a data distribution\n",
    "- Understand correlation and visualize the correlation amongst features"
   ]
  },
  {
   "cell_type": "markdown",
   "metadata": {},
   "source": [
    "## Outlier Detection\n",
    "\n",
    "- **Outliers** are extreme values that can skew our dataset, sometimes giving us an incorrect picture of how things actually are in our dataset. \n",
    "\n",
    "- The hardest part of this is determining which data points are acceptable, and which ones constitute as \"outliers\"."
   ]
  },
  {
   "cell_type": "markdown",
   "metadata": {},
   "source": [
    "## Activity: find and remove outliers if our dataset is Normal\n",
    "\n",
    "When our sample data is close to normal distribution, the samples that are _three standard deviations away from the mean_ can be considered outliers.\n",
    "\n",
    "**Task**: Write a function that first finds outliers for a normally distributed data, then remove them.\n",
    "\n",
    "**Hint**: Data samples that are below `mean - 3*std` and above `mean + 3*std` are outliers for Normal distribution "
   ]
  },
  {
   "cell_type": "code",
   "execution_count": 118,
   "metadata": {},
   "outputs": [
    {
     "name": "stdout",
     "output_type": "stream",
     "text": [
      "None\n"
     ]
    }
   ],
   "source": [
    "list = [1, 2, 1, 2, 1, 1, 1, 1, 600000]\n",
    "def remove_outlier(data_sample):\n",
    "    outliers = []\n",
    "    \n",
    "    mean = np.mean(data_sample)\n",
    "    std = np.std(data_sample)\n",
    "    remove_data = std*3\n",
    "    \n",
    "    below = mean - remove_data\n",
    "    above = mean + remove_data\n",
    "    \n",
    "    for x in data_sample:\n",
    "        if (x < below) or (x > above):\n",
    "            print(outliers.append())\n",
    "\n",
    "print(remove_outlier(list))"
   ]
  },
  {
   "cell_type": "code",
   "execution_count": 107,
   "metadata": {},
   "outputs": [],
   "source": [
    "import numpy as np\n",
    "\n",
    "list = [1, 2, 1, 1, 1, 1, 2, 600]\n",
    "\n",
    "def find_remove_outlier(data_sample):\n",
    "    # calculate summary statistics\n",
    "    data_mean, data_std = np.mean(data), np.std(data)\n",
    "    # define cut-off\n",
    "    cut_off = data_std * 3\n",
    "    lower, upper = data_mean - cut_off, data_mean + cut_off\n",
    "    # identify outliers\n",
    "    outliers = [x for x in data_sample if x < lower or x > upper]\n",
    "    # remove outliers\n",
    "    outliers_removed = [x for x in data_sample if x > lower and x < upper]\n",
    "    return outliers, outliers_removed\n",
    "\n",
    "print(find_remove_outlier([1, 2, 1, 1, 1, 2, 3, 600]))"
   ]
  },
  {
   "cell_type": "markdown",
   "metadata": {},
   "source": [
    "## Interquartile range (IQR)\n",
    "\n",
    "We use IQR for finding and removing outliers when the data has any kind of distribution\n",
    "\n",
    "[John Tukey](https://en.wikipedia.org/wiki/John_Tukey) suggested to _calculate the range between the first quartile (25%) and third quartile (75%) in the data_, which is  the IQR."
   ]
  },
  {
   "attachments": {},
   "cell_type": "markdown",
   "metadata": {},
   "source": [
    "## Activity:  IQR outlier detection and removal\n",
    "\n",
    "**Task**: write a function to find and remove outliers based on IQR method for this data sample:\n",
    "\n",
    "**Hint**: \n",
    "\n",
    "$Q_1$ is the first quartile (25%) = np.percentile (x,25)\n",
    "\n",
    "$Q_3$ is the third quartile (75%) = np.percentile (x, 75)\n",
    "\n",
    "IQR = Q3 - Q1\n",
    "\n",
    "<img src=\"https://www.thoughtco.com/thmb/Q6bHgTs2QBF2pPuEGy0W9LgyrSU=/768x0/filters:no_upscale():max_bytes(150000):strip_icc():format(webp)/boxplotwithoutliers-5b8ec88846e0fb0025192f90.jpg\"> \n",
    "\n",
    "<img src = \"https://d2mvzyuse3lwjc.cloudfront.net/doc/en/UserGuide/images/Customizing_the_Box_Chart_Box_Tab_Controls/Customizing_the_Box_Chart_Box_Tab_Controls_4.png?v=2729\">\n",
    "\n",
    "`x = [norm.rvs(loc=5 , scale=1 , size=100), -5, 11, 14]`"
   ]
  },
  {
   "cell_type": "code",
   "execution_count": 108,
   "metadata": {},
   "outputs": [
    {
     "name": "stdout",
     "output_type": "stream",
     "text": [
      "<class 'numpy.ndarray'>\n",
      "1.3242458186596657\n",
      "[-5.0, 11.0, 14.0]\n",
      "1.3242458186596657\n"
     ]
    }
   ],
   "source": [
    "import numpy as np\n",
    "import scipy.stats\n",
    "\n",
    "def find_remove_outlier_iqr(data_sample):\n",
    "    # calculate interquartile range\n",
    "    q25, q75 = np.percentile(data_sample, 25), np.percentile(data_sample, 75)\n",
    "    iqr = q75 - q25\n",
    "    print(iqr)\n",
    "    # calculate the outlier cutoff\n",
    "    cut_off = iqr * 1.5\n",
    "    lower, upper = q25 - cut_off, q75 + cut_off\n",
    "    # identify outliers\n",
    "    outliers = [x for x in data_sample if x < lower or x > upper]\n",
    "    # remove outliers\n",
    "    outliers_removed = [x for x in data_sample if x > lower and x < upper]\n",
    "    return outliers\n",
    "\n",
    "y = np.array([-5, 11, 14])\n",
    "x =  np.concatenate((scipy.stats.norm.rvs(loc=5 , scale=1 , size=100), y))\n",
    "print(type(x))\n",
    "print(find_remove_outlier_iqr(x))\n",
    "print(scipy.stats.iqr(x))"
   ]
  },
  {
   "cell_type": "markdown",
   "metadata": {},
   "source": [
    "## How we can visualy see the outlier?\n",
    "\n",
    "**Answer**: Box plot use the IQR method to display data and outliers"
   ]
  },
  {
   "cell_type": "code",
   "execution_count": 109,
   "metadata": {},
   "outputs": [
    {
     "data": {
      "image/png": "[encoded data removed]",
      "text/plain": [
       "<Figure size 432x288 with 1 Axes>"
      ]
     },
     "metadata": {
      "needs_background": "light"
     },
     "output_type": "display_data"
    }
   ],
   "source": [
    "import matplotlib.pyplot as plt\n",
    "\n",
    "plt.boxplot(x)\n",
    "\n",
    "plt.show()"
   ]
  },
  {
   "cell_type": "code",
   "execution_count": null,
   "metadata": {},
   "outputs": [],
   "source": []
  }
 ],
 "metadata": {
  "kernelspec": {
   "display_name": "Python 3",
   "language": "python",
   "name": "python3"
  },
  "language_info": {
   "codemirror_mode": {
    "name": "ipython",
    "version": 3
   },
   "file_extension": ".py",
   "mimetype": "text/x-python",
   "name": "python",
   "nbconvert_exporter": "python",
   "pygments_lexer": "ipython3",
   "version": "3.7.4"
  }
 },
 "nbformat": 4,
 "nbformat_minor": 2
}
