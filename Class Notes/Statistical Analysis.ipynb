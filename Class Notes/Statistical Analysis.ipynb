{
 "cells": [
  {
   "cell_type": "markdown",
   "metadata": {},
   "source": [
    "## Statistical Analysis\n",
    "\n",
    "We have learned null hypothesis, and compared two-sample test to check whether two samples are the same or not\n",
    "\n",
    "To add more to statistical analysis, the follwoing topics should be covered:\n",
    "\n",
    "1- Approxite the histogram of data with combination of Gaussian (Normal) distribution functions:\n",
    "\n",
    "    Gaussian Mixture Model (GMM)\n",
    "    Kernel Density Estimation (KDE)\n",
    "    \n",
    "2- Correlation among features\n"
   ]
  },
  {
   "cell_type": "markdown",
   "metadata": {},
   "source": [
    "## Review\n",
    "\n",
    "Write a function that computes and plot histogram of a given data\n",
    "\n",
    "Histogram is one method for estimating density"
   ]
  },
  {
   "cell_type": "markdown",
   "metadata": {},
   "source": [
    "## What is Gaussian Mixture Model (GMM)?\n",
    "\n",
    "GMM is a probabilistic model for representing normally distributed subpopulations within an overall population\n",
    "\n",
    "<img src=\"https://www.statisticshowto.datasciencecentral.com/wp-content/uploads/2016/05/Gaussian-mixture-example.svg_.png\" width=\"300\">\n",
    "\n",
    "$p(x) = \\sum_{i = 1}^{K} w_i \\ \\mathcal{N}(x \\ | \\ \\mu_i,\\ \\sigma_i)$\n",
    "\n",
    "$\\sum_{i=1}^{K} w_i = 1$\n",
    "\n",
    "https://brilliant.org/wiki/gaussian-mixture-model/\n"
   ]
  },
  {
   "cell_type": "markdown",
   "metadata": {},
   "source": [
    "In the image above, we see 3 peaks which means there are 3 normal distributions"
   ]
  },
  {
   "cell_type": "markdown",
   "metadata": {},
   "source": [
    "## Activity : Fit a GMM to a given data sample \n",
    "\n",
    "Task: \n",
    "\n",
    "1- Generate the concatination of the random variables as follows:\n",
    "\n",
    "`x_1 = np.random.normal(-5, 1, 3000)\n",
    "x_2 = np.random.normal(2, 3, 7000) \n",
    "x = np.concatenate((x_1, x_2))`\n",
    "\n",
    "2- Plot the histogram of `x`\n",
    "\n",
    "3- Obtain the weights, mean and variances of each Gassuian\n",
    "\n",
    "Steps needed: \n",
    "`from sklearn import mixture \n",
    "gmm = mixture.GaussianMixture(n_components=2)\n",
    "gmm.fit(x.reshape(-1,1))`"
   ]
  },
  {
   "cell_type": "code",
   "execution_count": 4,
   "metadata": {},
   "outputs": [
    {
     "data": {
      "image/png": "[encoded data removed]",
      "text/plain": [
       "<Figure size 432x288 with 1 Axes>"
      ]
     },
     "metadata": {
      "needs_background": "light"
     },
     "output_type": "display_data"
    },
    {
     "name": "stdout",
     "output_type": "stream",
     "text": [
      "Gmm means:[[ 2.08318264]\n",
      " [-4.96870937]]\n",
      "Gmm covariances:[[[8.62769483]]\n",
      "\n",
      " [[1.10041126]]]\n",
      "Gmm weights:[0.69047421 0.30952579]\n"
     ]
    }
   ],
   "source": [
    "import numpy as np\n",
    "import matplotlib.pyplot as plt\n",
    "from sklearn import mixture\n",
    "import pandas as pd\n",
    "\n",
    "x_1 = np.random.normal(-5, 1, 3000) # mean = -5, STD = 1 so variance = std^2 = 1\n",
    "x_2 = np.random.normal(2, 3, 7000) # mean = 2, STD = 3 so variance = std^2 = 9\n",
    "x = np.concatenate((x_1, x_2)) # list x is a concatenation of x_1 and x_2\n",
    "\n",
    "plt.hist(x, bins=20, density=1) # density = 1 means we are plotting the PDF\n",
    "plt.show()\n",
    "\n",
    "# print(np.mean(x_1)) # -5\n",
    "# print(np.mean(x_2)) # 2\n",
    "# print(np.var(x_1)) # 1\n",
    "# print(np.var(x_2)) # 9\n",
    "\n",
    "# What percentage of data in x is x_1 and x_2?\n",
    "# percentage_of_x_1 = (len(x_1)/len(x)) * 100\n",
    "# print(percentage_of_x_1) # 30\n",
    "\n",
    "# percentage_of_x_2 = (len(x_2)/len(x)) * 100\n",
    "# print(percentage_of_x_2) # 70\n",
    "\n",
    "# Define a GMM model and obtain its parameters\n",
    "gmm = mixture.GaussianMixture(n_components=2)\n",
    "gmm.fit(x.reshape(-1,1))\n",
    "print('Gmm means:' + str(gmm.means_))\n",
    "print('Gmm covariances:' + str(gmm.covariances_))\n",
    "print('Gmm weights:' + str(gmm.weights_))\n"
   ]
  },
  {
   "cell_type": "markdown",
   "metadata": {},
   "source": [
    "## The GMM has learn the probability density function of our data sample\n",
    "\n",
    "Lets the model generate sample from it model:"
   ]
  },
  {
   "cell_type": "code",
   "execution_count": 25,
   "metadata": {},
   "outputs": [
    {
     "data": {
      "image/png": "[encoded data removed]",
      "text/plain": [
       "<Figure size 432x288 with 1 Axes>"
      ]
     },
     "metadata": {
      "needs_background": "light"
     },
     "output_type": "display_data"
    }
   ],
   "source": [
    "z = gmm.sample(10000)\n",
    "plt.hist(z[0], bins=20, density=1)\n",
    "plt.show()"
   ]
  },
  {
   "cell_type": "markdown",
   "metadata": {},
   "source": [
    "# Question are the samples in  x and z the same?\n",
    "- No."
   ]
  },
  {
   "cell_type": "markdown",
   "metadata": {},
   "source": [
    "## Kernel Density Estimation (KDE)\n",
    "\n",
    "Kernel density estimation (KDE) is a non-parametric way to estimate the probability density function of a random variable. In other words the aim of KDE is to find probability density function (PDF) for a given dataset.\n",
    "\n",
    "Approximate the pdf of dataset:\n",
    "\n",
    "$p(x) = \\frac{1}{Nh}\\sum_{i = 1}^{N} \\ K(\\frac{x - x_i}{h})$\n",
    "\n",
    "where $h$ is a bandwidth and $N$ is the number of data points"
   ]
  },
  {
   "cell_type": "markdown",
   "metadata": {},
   "source": [
    "## Activity: Apply KDE on a given data sample\n",
    "\n",
    "Task: Apply KDE on previous generated sample data `x`\n",
    "\n",
    "Hint: use \n",
    "\n",
    "`kde = KernelDensity(kernel='gaussian', bandwidth=0.6)`"
   ]
  },
  {
   "cell_type": "code",
   "execution_count": 36,
   "metadata": {},
   "outputs": [
    {
     "data": {
      "text/plain": [
       "[<matplotlib.lines.Line2D at 0x1a2406bf90>]"
      ]
     },
     "execution_count": 36,
     "metadata": {},
     "output_type": "execute_result"
    },
    {
     "data": {
      "image/png": "[encoded data removed]",
      "text/plain": [
       "<Figure size 432x288 with 1 Axes>"
      ]
     },
     "metadata": {
      "needs_background": "light"
     },
     "output_type": "display_data"
    }
   ],
   "source": [
    "from sklearn.neighbors import KernelDensity\n",
    "\n",
    "kde = KernelDensity(kernel='gaussian', bandwidth=0.6) # 'gaussian' or 'normal' are the same thing\n",
    "kde.fit(x.reshape(-1,1))\n",
    "\n",
    "s = np.linspace(np.min(x), np.max(x))\n",
    "log_pdf = kde.score_samples(s.reshape(-1, 1))\n",
    "plt.plot(s, np.exp(log_pdf))\n",
    "\n",
    "# the 2 peaks are the means of x_1 and x_2"
   ]
  },
  {
   "cell_type": "code",
   "execution_count": 37,
   "metadata": {},
   "outputs": [
    {
     "data": {
      "image/png": "[encoded data removed]",
      "text/plain": [
       "<Figure size 432x288 with 1 Axes>"
      ]
     },
     "metadata": {
      "needs_background": "light"
     },
     "output_type": "display_data"
    }
   ],
   "source": [
    "m = kde.sample(10000)\n",
    "plt.hist(m, bins=20, density=1)\n",
    "plt.show()"
   ]
  },
  {
   "cell_type": "markdown",
   "metadata": {},
   "source": [
    "## Correlation \n",
    "\n",
    "Correlation is used to test relationships between quantitative variables\n",
    "\n",
    "Some examples of data that have a high correlation:\n",
    "\n",
    "1- Your caloric intake and your weight\n",
    "\n",
    "2- The amount of time your study and your GPA\n",
    "\n",
    "Question what is negative correlation?\n",
    "\n",
    "1- The number of resources and computational time (more resources = less time)\n",
    "\n",
    "Correlations are useful because we can find out what relationship variables have, we can make predictions about future behavior. "
   ]
  },
  {
   "cell_type": "markdown",
   "metadata": {},
   "source": [
    "## Activity: Obtain the correlation among all features of iris dataset\n",
    "\n",
    "1- Review the iris dataset. What are the features? \n",
    "\n",
    "2- Eliminate two columns `['Id', 'Species']`\n",
    "\n",
    "3- Compute the correlation among all features. \n",
    "\n",
    "Hint: Use `df.corr()`\n",
    "\n",
    "4- Plot the correlation by heatmap and corr plot in Seaborn -> `sns.heatmap`, `sns.corrplot`\n",
    "\n",
    "5- Write a function that computes the correlation (Pearson formula)\n",
    "\n",
    "Hint: https://en.wikipedia.org/wiki/Pearson_correlation_coefficient\n",
    "\n",
    "6- Compare your answer with `scipy.stats.pearsonr` for any given two features\n"
   ]
  },
  {
   "cell_type": "markdown",
   "metadata": {},
   "source": [
    "If there are 4 features, how many pair possibilities are there?\n",
    "> - n choose K\n",
    "> - K for this example is 2 because we are choosing pairs, if we were choosing triples then K would be 3\n",
    "> - (n/K) = (n!/K!(n-K))\n",
    "> - (4!/2!(4-2)) = 6"
   ]
  },
  {
   "cell_type": "code",
   "execution_count": 15,
   "metadata": {},
   "outputs": [
    {
     "data": {
      "text/plain": [
       "6.0"
      ]
     },
     "execution_count": 15,
     "metadata": {},
     "output_type": "execute_result"
    }
   ],
   "source": [
    "from scipy.special import comb\n",
    "comb(4,2) # 4 features, how many pairs are there?"
   ]
  },
  {
   "cell_type": "code",
   "execution_count": 16,
   "metadata": {},
   "outputs": [
    {
     "data": {
      "text/plain": [
       "45.0"
      ]
     },
     "execution_count": 16,
     "metadata": {},
     "output_type": "execute_result"
    }
   ],
   "source": [
    "comb(10,2) # 10 features, how many pairs are there?"
   ]
  },
  {
   "cell_type": "code",
   "execution_count": 45,
   "metadata": {},
   "outputs": [
    {
     "name": "stdout",
     "output_type": "stream",
     "text": [
      "0.8717541573048714\n",
      "(0.8717541573048713, 1.0384540627941062e-47)\n"
     ]
    }
   ],
   "source": [
    "import pandas as pd\n",
    "import numpy as np\n",
    "import scipy.stats\n",
    "import seaborn as sns\n",
    "import scipy.stats\n",
    "\n",
    "df = pd.read_csv('iris.csv')\n",
    "\n",
    "def pearson_corr(x, y):\n",
    "    x_mean = np.mean(x)\n",
    "    y_mean = np.mean(y)\n",
    "    num = [(i - x_mean)*(j - y_mean) for i,j in zip(x,y)]\n",
    "    den_1 = [(i - x_mean)**2 for i in x]\n",
    "    den_2 = [(j - y_mean)**2 for j in y]\n",
    "    correlation_x_y = np.sum(num)/np.sqrt(np.sum(den_1))/np.sqrt(np.sum(den_2))\n",
    "    return correlation_x_y\n",
    "\n",
    "print(pearson_corr(df['SepalLengthCm'], df['PetalLengthCm'])) # 0.87175\n",
    "print(scipy.stats.pearsonr(df['SepalLengthCm'], df['PetalLengthCm']))"
   ]
  },
  {
   "cell_type": "code",
   "execution_count": 46,
   "metadata": {
    "scrolled": true
   },
   "outputs": [
    {
     "data": {
      "text/plain": [
       "<matplotlib.axes._subplots.AxesSubplot at 0x1a23ef82d0>"
      ]
     },
     "execution_count": 46,
     "metadata": {},
     "output_type": "execute_result"
    },
    {
     "data": {
      "image/png": "[encoded data removed]",
      "text/plain": [
       "<Figure size 432x288 with 2 Axes>"
      ]
     },
     "metadata": {},
     "output_type": "display_data"
    }
   ],
   "source": [
    "# The Heat map is a correlation between pairs of 4 features: Sepal Length, Sepal Width, Petal Length, Petal Width\n",
    "\n",
    "df = pd.read_csv('iris.csv')\n",
    "df = df.drop(columns=['Id', 'Species'])\n",
    "# plt.figure(figsize=(8, 6))\n",
    "sns.heatmap(df.corr(), annot=True)\n"
   ]
  },
  {
   "cell_type": "code",
   "execution_count": 63,
   "metadata": {},
   "outputs": [
    {
     "data": {
      "text/plain": [
       "<matplotlib.axes._subplots.AxesSubplot at 0x1a25c6be10>"
      ]
     },
     "execution_count": 63,
     "metadata": {},
     "output_type": "execute_result"
    },
    {
     "data": {
      "image/png": "[encoded data removed]",
      "text/plain": [
       "<Figure size 792x648 with 2 Axes>"
      ]
     },
     "metadata": {},
     "output_type": "display_data"
    }
   ],
   "source": [
    "df = pd.read_csv('iris.csv')\n",
    "df = df.drop(columns=['Id', 'Species'])\n",
    "# plt.figure(figsize=(8, 6))\n",
    "# sns.heatmap(df.corr(), annot=True)\n",
    "\n",
    "\n",
    "sns.set(style=\"white\")\n",
    "\n",
    "\n",
    "# Compute the correlation matrix\n",
    "corr = df.corr()\n",
    "\n",
    "# Generate a mask for the upper triangle\n",
    "mask = np.triu(np.ones_like(corr, dtype=np.bool))\n",
    "\n",
    "# Set up the matplotlib figure\n",
    "f, ax = plt.subplots(figsize=(11, 9))\n",
    "\n",
    "# Generate a custom diverging colormap\n",
    "cmap = sns.diverging_palette(220, 10, as_cmap=True)\n",
    "\n",
    "# Draw the heatmap with the mask and correct aspect ratio\n",
    "sns.heatmap(corr, mask=mask, cmap=cmap, vmax=.3, center=0,\n",
    "            square=True, linewidths=.5, cbar_kws={\"shrink\": .5}, annot=True)"
   ]
  },
  {
   "cell_type": "code",
   "execution_count": null,
   "metadata": {},
   "outputs": [],
   "source": []
  }
 ],
 "metadata": {
  "kernelspec": {
   "display_name": "Python 3",
   "language": "python",
   "name": "python3"
  },
  "language_info": {
   "codemirror_mode": {
    "name": "ipython",
    "version": 3
   },
   "file_extension": ".py",
   "mimetype": "text/x-python",
   "name": "python",
   "nbconvert_exporter": "python",
   "pygments_lexer": "ipython3",
   "version": "3.7.4"
  }
 },
 "nbformat": 4,
 "nbformat_minor": 2
}
