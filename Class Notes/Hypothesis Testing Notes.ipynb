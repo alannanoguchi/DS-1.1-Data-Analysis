{
 "cells": [
  {
   "cell_type": "code",
   "execution_count": 2,
   "metadata": {},
   "outputs": [],
   "source": [
    "import math"
   ]
  },
  {
   "cell_type": "markdown",
   "metadata": {},
   "source": [
    "## What is null hypothesis?\n",
    "\n",
    "It is the formal method of reaching conclusions based on population statistics and sample data where we apply changes to a population"
   ]
  },
  {
   "cell_type": "markdown",
   "metadata": {},
   "source": [
    "## Activity: Review of Z distribution, CDF and SF\n",
    "\n",
    "Generate 10000 samples as a random variable with Normal distribution with a pre-defined mean and standard deviation.\n",
    "\n",
    "**Hint:** `import numpy as np`\n",
    "\n",
    "        `mean  = 60`\n",
    "        \n",
    "        `sigma = 10`\n",
    "\n",
    "       X = np.random.normal(mean, sigma, 10000)\n",
    "\n",
    "Write a function to show that $Z = \\frac{X - mean}{sigma}$, is standard Normal\n",
    "\n",
    "**Hint:** If you subtract each element of the above generated number from the mean, and divide over std (sigma), then the new array would be a Normal distribution with zero mean, std 1 \n",
    "\n",
    "**Hint:** Plot the histogram of Z, show that Z is standard normal"
   ]
  },
  {
   "cell_type": "markdown",
   "metadata": {},
   "source": [
    "## Null hypothesis drug example on rat\n",
    "\n",
    "[Slides for example](https://docs.google.com/presentation/d/1BQibGlrpX71JU0jBU0C7zJJr6S_4WQeFzO7PBmnxf8g/edit?usp=sharing)\n",
    "\n",
    "A neurologist is testing the effect of a drug on response time by injecting 100 rats with a unit dose of a drug, subjecting each to neurologist stimulus and recording its response time. The neurologist knows that the mean response time for rats not injected with the drug is 1.2 seconds. The mean of the 100 injected rats's response time is 1.05 seconds with population standard deviation of 0.5 seconds. Do you think the drug has effect on response time?"
   ]
  },
  {
   "cell_type": "markdown",
   "metadata": {},
   "source": [
    "$H_o :$ Drug has no effect ==> $\\mu_x = 1.2$ even with drug \n",
    "\n",
    "$H_a :$ Drug has effect ==> $\\mu_x \\neq 1.2$ when the drug is given"
   ]
  },
  {
   "cell_type": "markdown",
   "metadata": {},
   "source": [
    "## The steps to reject or accept the null hypothesis\n",
    "\n",
    "1- The population mean is known, $\\mu$\n",
    "\n",
    "2- The sample mean is known, $\\bar{x}$\n",
    "\n",
    "3- Define a significant level, $\\alpha$\n",
    "\n",
    "4- If $N$ > 30 or $\\sigma$ is known, then calculate z_score, $z_{score} = \\frac{\\bar{x} - \\mu}{\\sigma/\\sqrt{N}}$\n",
    "\n",
    "5- Calculate p-value, $p_{value} = 2SF(z_{score})$\n",
    "\n",
    "6- Decision: if $p_{value} < \\alpha$ then reject the null hypothesis "
   ]
  },
  {
   "cell_type": "markdown",
   "metadata": {},
   "source": [
    "## Activity: z-test\n",
    "\n",
    "Write a function that takes the mean, significant level, and samples of the population as the input arguments.\n",
    "\n",
    "This function should then decide to reject ot accept the null hypothesis for the drug effect on rats\n",
    "\n",
    "Recall: $\\mu = 1.2$, $\\bar{x} = 1.05$, $N = 100$ and $\\sigma = 0.5$"
   ]
  },
  {
   "cell_type": "markdown",
   "metadata": {},
   "source": [
    "## Scenario A: Rats without drug injection\n",
    "> - Average response time: $\\mu = 1.2$ (population mean for A)\n",
    "> - Standard deviation: $\\sigma = 0.5$\n",
    "\n",
    "## Scenario B: Drug injection on 100 Rats\n",
    "> - N = 100 rats\n",
    "> - Sample mean: $\\bar{x} = 1.05$\n",
    "\n",
    "## The goal of Null Hypothesis:\n",
    "We want to have conclusion about population mean for Scenario B. Possibilities:\n",
    "> - $H_o :$ Drug has no effect ==> $\\mu_x = 1.2$ even with drug \n",
    "\n",
    "> - $H_a :$ Drug has effect ==> $\\mu_x \\neq 1.2$ when the drug is given\n",
    "\n",
    "## N >= 30 or $\\sigma$ is known,  Steps:\n",
    "> - $z_{score} = \\frac{\\bar{x} - \\mu}{\\sigma/\\sqrt{N}}$\n",
    "> - Calculate $p_{value} = 2SF(z_{score})$\n",
    "> - Decision: if $p_{value}$ < $\\alpha$: reject Null Hypothesis\n",
    "\n"
   ]
  },
  {
   "cell_type": "code",
   "execution_count": 10,
   "metadata": {},
   "outputs": [
    {
     "name": "stdout",
     "output_type": "stream",
     "text": [
      "0.0026997960632602026\n",
      "reject null hypothesis\n"
     ]
    }
   ],
   "source": [
    "import numpy as np\n",
    "from scipy.stats import norm\n",
    "\n",
    "def accept_or_reject_null_hypothesis(mu, sample_mean, significant_level, N, sigma):\n",
    "    # Calculate standard deviation of the sampling distribution\n",
    "    sample_std = sigma / np.sqrt(N)\n",
    "    \n",
    "    # Calculate z-score from population mean (mu), sample mean and sample std\n",
    "    z = (sample_mean - mu) / sample_std\n",
    "    \n",
    "    # Calculate p-value from z-score\n",
    "    p_value = 2 * norm.sf(np.abs(z))\n",
    "    print(p_value)\n",
    "    \n",
    "    # Determine whether to accept or reject null hypothesis\n",
    "    if p_value < significant_level: # if 0.00269 is less than 0.05, then print: \n",
    "        print('reject null hypothesis')\n",
    "    else:\n",
    "        print('accept null hypothesis')\n",
    "        \n",
    "accept_or_reject_null_hypothesis(1.2, 1.05, 0.05, 100, 0.5)"
   ]
  },
  {
   "cell_type": "markdown",
   "metadata": {},
   "source": [
    "## Decision: We reject the null hypothesis meaning the drug has an affect on brain activity"
   ]
  },
  {
   "cell_type": "markdown",
   "metadata": {},
   "source": [
    "## Activity: t-test\n",
    "\n",
    "The average British man is 175.3 cm tall. A survey recorded the heights of 10 British men who drank a special type of Milk for 2 years.\n",
    "\n",
    "Calculate the t-score from the previous formula and use the available function in [`stats.ttest_1samp`](https://docs.scipy.org/doc/scipy/reference/generated/scipy.stats.ttest_1samp.html). Compare what you will get with `x` as your input:\n",
    "\n",
    "`x = [177.3, 182.7, 169.6, 176.3, 180.3, 179.4, 178.5, 177.2, 181.8, 176.5]`\n",
    "\n",
    "We want to know whether the mean of the sample is different from the population mean\n",
    "\n",
    "## Given Information:\n",
    "> - sample mean = 175.3 cm tall\n",
    "> - S = Sample std\n",
    "\n",
    "## Steps to Accept or Reject:\n",
    "> - obtain t-score\n",
    "> - $t_{score} = \\frac{\\bar{x} - \\mu}{S/\\sqrt{N}}$\n",
    "> - Calculate $p_{value} = 2SF(z_{score})$\n",
    "> - Decision: if $p_{value}$ < $\\alpha$: reject Null Hypothesis"
   ]
  },
  {
   "cell_type": "code",
   "execution_count": 19,
   "metadata": {},
   "outputs": [
    {
     "name": "stdout",
     "output_type": "stream",
     "text": [
      "t-statistic:  2.4197421550484095\n",
      "t =  2.295568968083183 , p =  0.04734137339747034\n"
     ]
    }
   ],
   "source": [
    "from scipy import stats\n",
    "\n",
    "x = [177.3, 182.7, 169.6, 176.3, 180.3, 179.4, 178.5, 177.2, 181.8, 176.5]\n",
    "mu = 175.3\n",
    "sample_mean = np.array(x).mean()\n",
    "\n",
    "# Calculate the standard deviation of sample distribution\n",
    "\n",
    "N = len(x) # number of data samples\n",
    "S = np.std(x)\n",
    "den = S /np.sqrt(N)\n",
    "\n",
    "# t-test from formula\n",
    "t = (sample_mean - mu)/den\n",
    "print(\"t-statistic: \",t)\n",
    "\n",
    "\n",
    "# one sample t-test that gives you the p-value too can be done with scipy as follows:\n",
    "t, p = stats.ttest_1samp(x, mu)\n",
    "print(\"t = \", t, \", p = \", p)"
   ]
  },
  {
   "cell_type": "markdown",
   "metadata": {},
   "source": [
    "### P-value is less than 0.05 so the Null Hypothesis is rejected, so we conclude that milk has an effect on height"
   ]
  },
  {
   "cell_type": "markdown",
   "metadata": {},
   "source": [
    "## Activity: z-test or t-test\n",
    "\n",
    "Write a function that determines whether to use z-test or t-test in order to accept or reject null hypothesis"
   ]
  },
  {
   "cell_type": "code",
   "execution_count": 30,
   "metadata": {},
   "outputs": [
    {
     "name": "stdout",
     "output_type": "stream",
     "text": [
      "reject null hypothesis\n"
     ]
    }
   ],
   "source": [
    "from scipy import stats\n",
    "\n",
    "def z_t_null_hypothesis(N, mu, sigma, significant_level):\n",
    "    \n",
    "    sample_std = sigma / np.sqrt(N)\n",
    "    N = len(x) # number of data samples\n",
    "    S = np.std(x)\n",
    "    den = S /np.sqrt(N)\n",
    "   \n",
    "    # If sigma is known, calculate using the z-test\n",
    "    if sigma:\n",
    "        z_score = (sample_mean - mu) / sample_std\n",
    "        p_value = 2 * norm.sf(np.abs(z_score))\n",
    "    # If the data_sample is greater than 30, calculate using the z-test\n",
    "    elif len(data_sample) > 30:\n",
    "        z_score = (sample_mean - mu)/den\n",
    "        p_value = 2 * norm.sf(np.abs(z_score))\n",
    "    # otherwise, calculate using the t-test\n",
    "    else:\n",
    "        t, p_value = stats.ttest_1samp(data_sample, mu)\n",
    "\n",
    "    if p_value < significant_level:\n",
    "        print('reject null hypothesis')\n",
    "        \n",
    "    else:\n",
    "        print('accept null hypothesis')\n",
    "        \n",
    "z_t_null_hypothesis(100, 1.2, 0.5, 0.05)"
   ]
  },
  {
   "cell_type": "code",
   "execution_count": 31,
   "metadata": {},
   "outputs": [],
   "source": [
    "# Instructors notes:\n",
    "\n",
    "def z_t_null_hypothesis(data_sample, mu, sigma, significant_level):\n",
    "    # If sigma is known, calculate using the z-test\n",
    "    if sigma:\n",
    "        z_score = (np.mean(data_sample)-mu)/(sigma/np.sqrt(len(data_sample)))\n",
    "        p = scipy.stats.norm.sf(abs(z_score))*2\n",
    "    # If the data_sample is greater than 30, calculate using the z-test\n",
    "    elif len(data_sample) > 30:\n",
    "        z_score = (np.mean(data_sample)-mu)/(np.std(data_sample)/np.sqrt(len(data_sample)))\n",
    "        p = scipy.stats.norm.sf(abs(z_score))*2\n",
    "    # otherwise, calculate using the t-test\n",
    "    else:\n",
    "        t, p = stats.ttest_1samp(data_sample, mu)\n",
    "\n",
    "    if p < significant_level:\n",
    "        print('reject null hypothesis')\n",
    "        \n",
    "    else:\n",
    "        print('accept null hypothesis')"
   ]
  },
  {
   "cell_type": "markdown",
   "metadata": {},
   "source": [
    "## 1-sample t-test\n",
    "The 1-sample t-test is used when we want to compare a sample mean to a population mean (which we already know). The average British man is 175.3 cm tall. A survey recorded the heights of 10 UK men and we want to know whether the mean of the sample is different from the population mean."
   ]
  },
  {
   "cell_type": "code",
   "execution_count": 37,
   "metadata": {},
   "outputs": [
    {
     "name": "stdout",
     "output_type": "stream",
     "text": [
      "The t-statistic is 2.296 and the p-value is 0.047.\n"
     ]
    }
   ],
   "source": [
    "from scipy import stats\n",
    "\n",
    "one_sample_data = [177.3, 182.7, 169.6, 176.3, 180.3, 179.4, 178.5, 177.2, 181.8, 176.5]\n",
    "\n",
    "one_sample = stats.ttest_1samp(one_sample_data, 175.3) # _1samp Calculates the T-test for the mean of ONE group of scores\n",
    "\n",
    "print (\"The t-statistic is %.3f and the p-value is %.3f.\" % one_sample)"
   ]
  },
  {
   "cell_type": "markdown",
   "metadata": {},
   "source": [
    "### Here we can conclude that the average height of our sample is significantly different (p <  0.05) from the average British male height. The return value is the result of a two-sided t-test and is a tuple containing the t-value and the p-value."
   ]
  },
  {
   "cell_type": "markdown",
   "metadata": {},
   "source": [
    "## Unpaired t-test\n",
    "This test compares two unrelated samples. Int eh example below data was collected on different weight (kg) of 8 elderly women and 8 elderly men. We are interested in whether the weights of these two samples are different."
   ]
  },
  {
   "cell_type": "code",
   "execution_count": 38,
   "metadata": {},
   "outputs": [
    {
     "name": "stdout",
     "output_type": "stream",
     "text": [
      "The t-statistic is 3.588 and the p-value is 0.003.\n",
      "If we assume unequal variances than the t-statistic is 3.588 and the p-value is 0.004.\n"
     ]
    }
   ],
   "source": [
    "female = [63.8, 56.4, 55.2, 58.5, 64.0, 51.6, 54.6, 71.0]\n",
    "male = [75.5, 83.9, 75.7, 72.5, 56.2, 73.4, 67.7, 87.9]\n",
    "\n",
    "two_sample = stats.ttest_ind(male, female)\n",
    "\n",
    "print (\"The t-statistic is %.3f and the p-value is %.3f.\" % two_sample)\n",
    "\n",
    "# assuming unequal population variances\n",
    "two_sample_diff_var = stats.ttest_ind(male, female, equal_var=False) # _ind Calculates the T-test for the means of two independent samples of scores.\n",
    "\n",
    "print (\"If we assume unequal variances than the t-statistic is %.3f and the p-value is %.3f.\" % two_sample_diff_var)"
   ]
  },
  {
   "cell_type": "markdown",
   "metadata": {},
   "source": [
    "### Here we can conclude that the weights of men and women are indeed different (p <  0.01). Like the 1-sample test above the return value is a tuple containing the t-statistic and the p-value and these are the results of a two-sided test. If we suspect that the samples we are looking at come from populations with unequal variances we can set the equal_var parameter in the test to False. The results are then from Welch’s t-test, which does not assume equal population variance."
   ]
  },
  {
   "cell_type": "markdown",
   "metadata": {},
   "source": [
    "## Paired t-test\n",
    "The paired t-test is used when we have two sets of repeated measures i.e. we have measured some parameter on the same subjects at different times (or under different conditions). In the example the weight of 9 people were recorded before they had abdominal surgery and then again 5 months later. We are asking if surgery leads to a change in weight.\n"
   ]
  },
  {
   "cell_type": "code",
   "execution_count": 36,
   "metadata": {},
   "outputs": [
    {
     "name": "stdout",
     "output_type": "stream",
     "text": [
      "The t-statistic is 3.668 and the p-value is 0.006.\n"
     ]
    }
   ],
   "source": [
    "baseline = [67.2, 67.4, 71.5, 77.6, 86.0, 89.1, 59.5, 81.9, 105.5]\n",
    "follow_up = [62.4, 64.6, 70.4, 62.6, 80.1, 73.2, 58.2, 71.0, 101.0]\n",
    "\n",
    "paired_sample = stats.ttest_rel(baseline, follow_up) # _rel calculates the T-test on TWO RELATED samples of scores\n",
    "\n",
    "print (\"The t-statistic is %.3f and the p-value is %.3f.\" % paired_sample)"
   ]
  },
  {
   "cell_type": "markdown",
   "metadata": {},
   "source": [
    "### From the results we see that weight has changed significantly between pre- and post-surgery (p <  0.01)."
   ]
  },
  {
   "cell_type": "markdown",
   "metadata": {},
   "source": [
    "## Activity:\n",
    "Historically a factory has been able to produce a very specialized nano-technology component with 35% reliability, i.e. 35% of the components passed its quality assurance requirements. They have now changed their manufacturing process and hope that this has improved the reliability. To test this, they took a sample of 24 componenets produced using the new process and found that 13 components passed the quality assurance test. Does this show significant improvement over the old process?\n",
    "> - $H_o :$ p <= 0.35\n",
    "> - $H_1 :$ p > 0.35\n",
    "> - stats.binom_test(13, n=24, p=0.35, alternative='greater')\n",
    "> - $p_{value} =$ 0.04225 < 0.05"
   ]
  },
  {
   "cell_type": "markdown",
   "metadata": {},
   "source": [
    "## What is a one-tail or two-tail calculation for a p-value?\n",
    "\n",
    "If the alternative hypothesis says the mean of a sample is different from the mean of the population, we should compute the p-value using two-tail. If it says the mean of a sample is greater or lower than the mean of a population, we should compute using one-tail"
   ]
  },
  {
   "cell_type": "markdown",
   "metadata": {},
   "source": [
    "## Possible errors that can happen when accepting or rejecting the null hypothesis\n",
    "\n",
    "**Type I error:** We reject the null hypothesis when the null is true\n",
    "\n",
    "$\\alpha$ = P(rejecting $H_o$  $|$  $H_o$ is true)\n",
    "\n",
    "**Type II error:** We accept the null hypothesis when it is not true\n",
    "\n",
    "$\\beta$ = P(accepting $H_o$ $|$ $H_o$ is false)\n",
    "\n",
    "The drug has an effect on the brain\n",
    "\n",
    "The drug has no effect on the brain"
   ]
  },
  {
   "cell_type": "code",
   "execution_count": null,
   "metadata": {},
   "outputs": [],
   "source": []
  }
 ],
 "metadata": {
  "kernelspec": {
   "display_name": "Python 3",
   "language": "python",
   "name": "python3"
  },
  "language_info": {
   "codemirror_mode": {
    "name": "ipython",
    "version": 3
   },
   "file_extension": ".py",
   "mimetype": "text/x-python",
   "name": "python",
   "nbconvert_exporter": "python",
   "pygments_lexer": "ipython3",
   "version": "3.7.4"
  }
 },
 "nbformat": 4,
 "nbformat_minor": 2
}
