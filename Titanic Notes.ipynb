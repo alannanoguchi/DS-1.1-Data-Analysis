{
 "cells": [
  {
   "cell_type": "code",
   "execution_count": 15,
   "metadata": {},
   "outputs": [
    {
     "name": "stdout",
     "output_type": "stream",
     "text": [
      "Total number of female survived: 233\n",
      "Total number of female died: 81\n",
      "Total number of male survived: 109\n",
      "Total number of male died: 468\n"
     ]
    }
   ],
   "source": [
    "import csv\n",
    "\n",
    "with open('titanic.csv') as csv_file:\n",
    "    csv_reader = csv.reader(csv_file, delimiter=',')\n",
    "    gender_ls = []\n",
    "    survive_ls = []\n",
    "    for row in csv_reader:\n",
    "        gender_ls.append(row[4])\n",
    "        survive_ls.append(row[1])\n",
    "\n",
    "gender_ls = gender_ls[1:]  \n",
    "survive_ls = survive_ls [1:]\n",
    "\n",
    "female_index = [i for i, j in enumerate(gender_ls) if j == 'female']\n",
    "female_survived_not_survived = [survive_ls[i] for i in female_index]\n",
    "\n",
    "num_female_survived = len([i for i, j in enumerate(female_survived_not_survived) if j == '1'])\n",
    "print(\"Total number of female survived: \" + str(num_female_survived))\n",
    "\n",
    "num_female_died = len([i for i, j in enumerate(female_survived_not_survived) if j == '0'])\n",
    "print(\"Total number of female died: \" + str(num_female_died))\n",
    "\n",
    "\n",
    "\n",
    "male_index = [i for i, j in enumerate(gender_ls) if j == \"male\"]\n",
    "male_survived_not_survived = [survive_ls[i] for i in male_index]\n",
    "\n",
    "num_male_survived = len([i for i,j in enumerate(male_survived_not_survived) if j ==\"1\"])\n",
    "print(\"Total number of male survived: \" + str(num_male_survived))\n",
    "\n",
    "num_male_died = len([i for i,j in enumerate(male_survived_not_survived) if j ==\"0\"])\n",
    "print(\"Total number of male died: \" + str(num_male_died))\n",
    "\n"
   ]
  },
  {
   "cell_type": "code",
   "execution_count": 26,
   "metadata": {},
   "outputs": [
    {
     "data": {
      "text/plain": [
       "(891, 12)"
      ]
     },
     "execution_count": 26,
     "metadata": {},
     "output_type": "execute_result"
    }
   ],
   "source": [
    "import numpy as np \n",
    "import pandas as pd \n",
    "\n",
    "df = pd.read_csv('titanic.csv')\n",
    "\n",
    "# df.head()\n",
    "df.shape #(number of rows, number of columns) (891, 12)\n",
    "# len(df[(df['Sex'] == 'female') & (df['Survived'] == 1)])"
   ]
  },
  {
   "cell_type": "code",
   "execution_count": 31,
   "metadata": {},
   "outputs": [
    {
     "name": "stdout",
     "output_type": "stream",
     "text": [
      "233\n",
      "26.15039281705948\n"
     ]
    }
   ],
   "source": [
    "#without using pandas\n",
    "import csv\n",
    "\n",
    "with open('titanic.csv') as csv_file:\n",
    "    csv_reader = csv.reader(csv_file, delimiter=',')\n",
    "    #set the counter\n",
    "    count = 0\n",
    "    #iterate over rows\n",
    "    for row in csv_reader:\n",
    "        #if passenger is female and she survived, increase the counter\n",
    "        if (row[1] == \"1\") & (row[4] == \"female\"):\n",
    "            count += 1\n",
    "            percentage = (count / 891) * 100\n",
    "\n",
    "print(count)\n",
    "print(percentage)"
   ]
  },
  {
   "cell_type": "code",
   "execution_count": null,
   "metadata": {},
   "outputs": [],
   "source": []
  }
 ],
 "metadata": {
  "kernelspec": {
   "display_name": "Python 3",
   "language": "python",
   "name": "python3"
  },
  "language_info": {
   "codemirror_mode": {
    "name": "ipython",
    "version": 3
   },
   "file_extension": ".py",
   "mimetype": "text/x-python",
   "name": "python",
   "nbconvert_exporter": "python",
   "pygments_lexer": "ipython3",
   "version": "3.7.4"
  }
 },
 "nbformat": 4,
 "nbformat_minor": 2
}
